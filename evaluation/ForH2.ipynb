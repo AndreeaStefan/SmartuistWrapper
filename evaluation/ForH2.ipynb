{
 "cells": [
  {
   "cell_type": "code",
   "execution_count": 73,
   "metadata": {},
   "outputs": [],
   "source": [
    "import numpy as np\n",
    "import matplotlib.pyplot as plt\n",
    "from Helper import *"
   ]
  },
  {
   "cell_type": "code",
   "execution_count": 74,
   "metadata": {},
   "outputs": [],
   "source": [
    "#GRAPHS#\n",
    "SMALL_SIZE = 20\n",
    "MEDIUM_SIZE = 20\n",
    "BIGGER_SIZE = 24\n",
    "\n",
    "blue = 'royalblue'\n",
    "red = 'crimson'\n",
    "col1 = 'darkmagenta'\n",
    "col2 = 'goldenrod'\n",
    "col3 = 'mediumturquoise'\n",
    "col4 ='forestgreen'\n",
    "\n",
    "plt.rc('font', size=SMALL_SIZE)          # controls default text sizes\n",
    "plt.rc('axes', titlesize=SMALL_SIZE)     # fontsize of the axes title\n",
    "plt.rc('axes', labelsize=MEDIUM_SIZE)    # fontsize of the x and y labels\n",
    "plt.rc('xtick', labelsize=SMALL_SIZE)    # fontsize of the tick labels\n",
    "plt.rc('ytick', labelsize=SMALL_SIZE)    # fontsize of the tick labels\n",
    "plt.rc('legend', fontsize=SMALL_SIZE)    # legend fontsize\n",
    "plt.rc('figure', titlesize=BIGGER_SIZE)  # fontsize of the figure title"
   ]
  },
  {
   "cell_type": "code",
   "execution_count": 87,
   "metadata": {},
   "outputs": [],
   "source": [
    "# constants\n",
    "\n",
    "# 0 - male, 1 - female \n",
    "gender = [1, 0, 0, 0, 0, 1, 1, 1, 1, 1, 1, 1, 1, 1, 1, 1, 1, # player 0 - 16\n",
    "         0, 0, 0, 0, 0, 0, 0, 0, 0, 0, 0, 0, 0, 0, 0, 0, # 17 - 32\n",
    "         1, 1, 1, 1, 1, 1, 1, 1, 1, 1, 1, 1, 1, 1, 1, 1, # 33 - 48\n",
    "         0, 0, 0, 0, 1, 1, 1, 1, 0, 0 ,0 ,0, 0, 0, 0, 0 ] # 49 - 64 \n",
    "\n",
    "# body, leftUpperArm, RightUpperArm, RightFoot, LeftFoot, LeftHand, RightHand\n",
    "bodyPartsGroups= [0,1,1,2,2,3,3]\n",
    "# 0 = right, 1 = hand\n",
    "hand = [0,0,1,0,0,0,0,1,0,0,0,0,0,0,0,1]\n",
    "gen = [0,1,1,1,0,0,0,0,1,1,1,1,0,1,0,0]\n",
    "height = [1.7, 1.73, 1.65, 1.72, 1.77, 1.82, 1.81, 1.79, 1.6, 1.7, 1.7, 1.65, 1.8, 1.78, 1.84, 1.85 ]\n",
    "colours = [\"royalblue\",\"crimson\",\"crimson\",\"crimson\",\"royalblue\",\"royalblue\",\"royalblue\",\"royalblue\",\"crimson\",\"crimson\",\"crimson\",\"crimson\",\"royalblue\",\"crimson\",\"royalblue\",\"royalblue\"]\n",
    "armLength = [28,23.5,27,27, 28, 27, 28, 26, 23, 26, 24, 26, 27, 24, 29, 29]\n",
    "vrLength = [4.94, 3.90, 2.49, 3.39, 5.27, 5.09, 7.19, 4.14, 6.20, 3.00, 4.21, 4.90, 5.45, 2.87, 6.95, 2.70]\n",
    "realLength = [ a * b / 100 for (a,b) in zip(armLength,vrLength) ]\n",
    "\n",
    "weightPercentageMale = [0.551, 0.0325, 0.0325, 0.1668, 0.1668, 0.0252, 0.0252]\n",
    "weightPercentageFemale = [0.532, 0.029, 0.029, 0.1843, 0.1843, 0.0207, 0.0207]\n",
    "\n",
    "playersTraining = [2, 7, 11, 14, 18, 22, 26, 30, 34, 38, 42, 46, 50, 54, 58, 62]\n",
    "playersBaseline = [4, 9, 13, 16, 19, 24, 28, 31, 36, 39, 43, 48, 51, 56, 60, 63]\n",
    "playersOptimal  = [3, 8, 12, 15, 20, 23, 27, 32, 35, 40, 44, 47, 52, 55, 59, 64]\n",
    "\n",
    "path = \"E:\\\\Andreea\\\\Master\\\\Thesis\\\\Git\\\\TheOne\\\\SmartuistWrapper\\\\tapResultParticipants.csv\"\n",
    "pathH = \"C:\\\\Users\\\\huber\\\\OneDrive\\\\Dokumenty\\\\thesis-hubert\\\\unity\\\\SmartuistWrapper\\\\tapResultParticipants.csv\""
   ]
  },
  {
   "cell_type": "code",
   "execution_count": 88,
   "metadata": {},
   "outputs": [],
   "source": [
    "# computes the gain for the player (from effort per body part and throughput)\n",
    "def getGainPerPlayer(p, results):\n",
    "    gain = [] \n",
    "    batchSize = 10\n",
    "    nrLessons = 2\n",
    "    playerResults = results[p]\n",
    "    for l in range(nrLessons):\n",
    "        stupidTh = 0 \n",
    "        sumTh = 0\n",
    "        bodyParts =[ 0 for i in range(7)]\n",
    "        for res in playerResults: #results for a repetition  \n",
    "            if(l == int(res[1])):\n",
    "                for i in range (7):\n",
    "                    bodyParts[i] += 1 / float(res[21+i])\n",
    "                sumTh += float(res[13])\n",
    "                stupidTh += sumTh\n",
    "        \n",
    "        bodyParts = [ x / batchSize for x in bodyParts]\n",
    "        gainEffort = sum(bodyParts) / len(bodyParts)\n",
    "        gainTh = stupidTh / batchSize\n",
    "        gain.append((gainEffort + gainTh) / 2)\n",
    "    \n",
    "    return np.average(gain)\n",
    "\n",
    "# get effort and distance per body parts\n",
    "def EffortPerBodyPartPerPlayerSummed(p, results, batchSize, limitLessons):\n",
    "    effortBodyParts = [ 0 for i in range(7)]\n",
    "    distBodyParts = [ 0 for i in range(7)]\n",
    "    tmp = results[p]\n",
    "    counter = 0\n",
    "    for words in tmp:\n",
    "        if int(words[1]) < limitLessons:\n",
    "            for i in range (7):\n",
    "                effortBodyParts[i] += float(words[21+i])\n",
    "                distBodyParts[i] += float(words[14+i])\n",
    "\n",
    "            counter = counter + 1\n",
    "            if counter == batchSize:\n",
    "                counter = 0\n",
    "            if counter == 0:\n",
    "                for i in range(7):\n",
    "                    effortBodyParts[i] /= batchSize\n",
    "                    distBodyParts[i] /= batchSize\n",
    "    return (effortBodyParts, distBodyParts)\n",
    "\n",
    "# a list with the results at idx for the given player    \n",
    "def getResultPerPlayer(p, results, idx, unique ):\n",
    "    tmp = results[p]\n",
    "    values = []\n",
    "    for words in tmp:\n",
    "        values.append(float(words[idx]))\n",
    "    if (unique == True):\n",
    "        values =  [x for i, x in enumerate(values) if i == values.index(x)]\n",
    "    return values\n",
    "\n",
    "# sort list1 - use the indexes of the sorted list1 to rearrage list2    \n",
    "def getCombinedPlot(list1, list2):\n",
    "    idx   = np.argsort(list1)\n",
    "    list1 = np.array(list1)[idx]\n",
    "    list2 = np.array(list2)[idx]  \n",
    "    return (list1, list2)\n",
    "\n",
    "def EffortPerBodyPartPerPlayer(p, results):\n",
    "    bodyParts =[ [0]*1 for i in range(7)]\n",
    "    distBodyParts = [[0] * 1 for i in range (7)]\n",
    "    tmp = results[p]\n",
    "    counter = 0\n",
    "    for words in tmp:            \n",
    "        for i in range (7):\n",
    "            bodyParts[i][bodyParts[i].index(bodyParts[i][-1])] += float(words[21+i])\n",
    "            distBodyParts[i][distBodyParts[i].index(distBodyParts[i][-1])] += float(words[14+i])\n",
    "        counter = counter + 1\n",
    "        if counter == 10:\n",
    "            counter = 0\n",
    "        if counter == 0:\n",
    "            for i in range(7):\n",
    "                bodyParts[i][bodyParts[i].index(bodyParts[i][-1])] /= 10\n",
    "                bodyParts[i].append(0)\n",
    "                distBodyParts[i][distBodyParts[i].index(distBodyParts[i][-1])] /= 10\n",
    "                distBodyParts[i].append(0)\n",
    "    return (bodyParts, distBodyParts)"
   ]
  },
  {
   "cell_type": "code",
   "execution_count": 89,
   "metadata": {},
   "outputs": [],
   "source": [
    "results = readFromFile(path, 0)"
   ]
  },
  {
   "cell_type": "code",
   "execution_count": 90,
   "metadata": {},
   "outputs": [],
   "source": [
    "from scipy.stats import pearsonr, spearmanr, kendalltau, normaltest\n",
    "\n",
    "def isNormal(x):\n",
    "    k2, p = normaltest(x)\n",
    "    alpha = 1e-3\n",
    "    #print(\"p = {:g}\".format(p))\n",
    "    p = 3.27207e-11\n",
    "    if p < alpha:  # null hypothesis: x comes from a normal distribution\n",
    "        #rint(\"The null hypothesis can be rejected\")\n",
    "        return False\n",
    "    else:\n",
    "       #print(\"The null hypothesis cannot be rejected\")\n",
    "        return True\n",
    "\n",
    "def findCorelation(data1, data2, label=\"\"):\n",
    "    print(label)\n",
    "    print(isNormal(data1))\n",
    "    print(isNormal(data2))\n",
    "    # calculate pearso's correlation\n",
    "    coef, p = pearsonr(data1, data2) \n",
    "    \n",
    "    n = len(data1)\n",
    "\n",
    "    num = (1- coef ** 2)*(n-1)\n",
    "    print(n, num)\n",
    "    adjCoef = np.sqrt(1 - num/(n - 2))\n",
    "    print('Pearson correlation p-value: %.9f' % p, coef, adjCoef)\n",
    "    \n",
    "    coef, p = spearmanr(data1, data2) \n",
    "    print('spearman correlation p-value: %.9f' % p, coef)\n"
   ]
  },
  {
   "cell_type": "code",
   "execution_count": 91,
   "metadata": {},
   "outputs": [
    {
     "name": "stdout",
     "output_type": "stream",
     "text": [
      "All lengths / Fitness \n",
      "False\n",
      "False\n",
      "456 451.8108581169741\n",
      "Pearson correlation p-value: 0.074097979 0.0837203860455585 0.06943989070240514\n",
      "spearman correlation p-value: 0.000038327 0.1915497324883871\n"
     ]
    }
   ],
   "source": [
    "# for H2\n",
    "lengths = []\n",
    "gainAllParticipants = [] \n",
    "for p in playersTraining:\n",
    "    lengths.append(getResultPerPlayer(p, results, 28, True ))\n",
    "    gainAllParticipants.append(getResultPerPlayer(p, results, 29, True ))\n",
    "\n",
    "lengthsCorrect = []\n",
    "for i in range(len(gainAllParticipants)): \n",
    "    l = lengths[i]\n",
    "    g = gainAllParticipants[i]\n",
    "    for j in range(len(l)-1, 0, -1):   \n",
    "        l[j] = l[j-1] * armLength[i]/100\n",
    "    l[0] = l[0] * armLength[i]/100\n",
    "\n",
    "    lengthsCorrect.append(l)\n",
    "    \n",
    "#remove first column for each participant (gain = -1)\n",
    "[r.pop(0) for r in lengthsCorrect]\n",
    "[r.pop(0) for r in gainAllParticipants]\n",
    "\n",
    "\n",
    "# merge results for all participants\n",
    "mergedLengths = [item for sublist in lengthsCorrect for item in sublist]\n",
    "mergedFitness = [item for sublist in gainAllParticipants for item in sublist]\n",
    "\n",
    "# they are kind of uniformly distributed -> we can use parametric tests\n",
    "# plt.hist(mergedLengths)\n",
    "# plt.show()\n",
    "# plt.hist(mergedFitness)\n",
    "# plt.show()\n",
    "\n",
    "\n",
    "\n",
    "findCorelation(mergedFitness, mergedLengths, \"All lengths / Fitness \")"
   ]
  },
  {
   "cell_type": "code",
   "execution_count": 92,
   "metadata": {},
   "outputs": [
    {
     "name": "stdout",
     "output_type": "stream",
     "text": [
      "[14, 33, 87, 96, 86, 70, 23, 14, 19, 7, 5, 1]\n",
      "Peak:  1.5\n"
     ]
    },
    {
     "data": {
      "image/png": "[encoded data removed]",
      "text/plain": [
       "<Figure size 1584x432 with 1 Axes>"
      ]
     },
     "metadata": {
      "needs_background": "light"
     },
     "output_type": "display_data"
    }
   ],
   "source": [
    "#average Gain across participants\n",
    "def getAvgFitness(fitness, l): # l is all lenghts for all participants sorted\n",
    "    step =  0.25\n",
    "    maxL =  3\n",
    "    start =  0.25\n",
    "    i = 0\n",
    "    binn = 0\n",
    "    countsPerLenght = []\n",
    "    averagePerLength = []\n",
    "    lengths = []\n",
    "    f = 0\n",
    "    count = 0\n",
    "    while(start < maxL and i < len(l)):\n",
    "        if (l[i] > start):\n",
    "            binn += 1\n",
    "            lengths.append(start)\n",
    "            averagePerLength.append(f) \n",
    "            countsPerLenght.append(count)\n",
    "            start += step\n",
    "            f = 0\n",
    "            count = 0\n",
    "       \n",
    "        count  += 1\n",
    "        f += fitness[i] \n",
    "        i+=1\n",
    "    lengths.append(start)\n",
    "    averagePerLength.append(f) \n",
    "    countsPerLenght.append(count)\n",
    "    print(countsPerLenght)\n",
    "    for i in range(len(averagePerLength)):\n",
    "        if(countsPerLenght[i] != 0):\n",
    "            averagePerLength[i] = averagePerLength[i] / countsPerLenght[i]\n",
    "    \n",
    "    return (lengths, averagePerLength)\n",
    "\n",
    "lSorted, fitnessSorted = getCombinedPlot(mergedLengths, mergedFitness)\n",
    "LActual, actualPerformance = getAvgFitness(fitnessSorted, lSorted)    \n",
    " \n",
    "\n",
    "fig, axs = plt.subplots(nrows = 1, ncols = 1, figsize=(22, 6))\n",
    "axs.plot(LActual, actualPerformance , \"-o\")\n",
    "#axs.set_title(\"Fitness as length increases (average accross participants)\") \n",
    "axs.set_ylabel(\"Fitness\")\n",
    "axs.set_xlabel(\"Length (m)\")\n",
    "axs.set_xticks(LActual)\n",
    "axs.set_yticks(np.arange(0, 13, 1))\n",
    "axs.grid(True)\n",
    "plt.savefig(\"FitnessAsLengthIncreasesLength\",bbox_inches='tight', dpi=150) \n",
    "print(\"Peak: \", LActual[actualPerformance.index(max(actualPerformance))])"
   ]
  },
  {
   "cell_type": "code",
   "execution_count": 93,
   "metadata": {},
   "outputs": [
    {
     "name": "stdout",
     "output_type": "stream",
     "text": [
      "All lengths / Fitness until 1.5m\n",
      "False\n",
      "False\n",
      "386 334.17939080684386\n",
      "Pearson correlation p-value: 0.000000000 0.36332022008124754 0.3601960157661993\n",
      "spearman correlation p-value: 0.000000000 0.3476384497778965\n",
      "All lengths / Fitness after 1.5m\n",
      "False\n",
      "False\n",
      "70 57.131979443300835\n",
      "Pearson correlation p-value: 0.000357545 -0.41472918624468214 0.3997797289960613\n",
      "spearman correlation p-value: 0.000209344 -0.42920129472487095\n",
      "386 70\n"
     ]
    }
   ],
   "source": [
    "# split values\n",
    "for i in range(len(lSorted)):\n",
    "    if (lSorted[i] > 1.5):\n",
    "        thIdx = i\n",
    "        break\n",
    "\n",
    "findCorelation(lSorted[:thIdx], fitnessSorted[:thIdx], \"All lengths / Fitness until 1.5m\")\n",
    "findCorelation(lSorted[thIdx:], fitnessSorted[thIdx:], \"All lengths / Fitness after 1.5m\")\n",
    "\n",
    "print(len(lSorted[:thIdx]), len(lSorted[thIdx:]))"
   ]
  },
  {
   "cell_type": "code",
   "execution_count": 94,
   "metadata": {},
   "outputs": [
    {
     "name": "stderr",
     "output_type": "stream",
     "text": [
      "c:\\users\\bruger\\appdata\\local\\programs\\python\\python36\\lib\\site-packages\\scipy\\interpolate\\_cubic.py:147: RuntimeWarning: divide by zero encountered in true_divide\n",
      "  mk = (y[1:] - y[:-1]) / hk\n",
      "c:\\users\\bruger\\appdata\\local\\programs\\python\\python36\\lib\\site-packages\\scipy\\interpolate\\_cubic.py:165: RuntimeWarning: invalid value encountered in true_divide\n",
      "  whmean = (w1/mk[:-1] + w2/mk[1:]) / (w1 + w2)\n"
     ]
    },
    {
     "data": {
      "image/png": "[encoded data removed]",
      "text/plain": [
       "<Figure size 432x288 with 1 Axes>"
      ]
     },
     "metadata": {
      "needs_background": "light"
     },
     "output_type": "display_data"
    }
   ],
   "source": [
    "from scipy.interpolate import make_interp_spline, BSpline, pchip\n",
    "\n",
    "def inter(x,y, points):\n",
    "    xnew = np.linspace(x.min(),x.max(),points) #300 represents number of points to make between T.min and T.max\n",
    "\n",
    "    spl = pchip(x, y) #BSpline object\n",
    "    newY = spl(xnew)\n",
    "    return(xnew,newY)\n",
    "\n",
    "mergedLengths, mergedFitness = getCombinedPlot(mergedLengths, mergedFitness)\n",
    "mergedLengthsI, mergedFitnessI = inter(mergedLengths, mergedFitness, 8)\n",
    "plt.plot(mergedLengthsI, mergedFitnessI)\n",
    "plt.xticks(np.arange(0, 11, step=1)) \n",
    "plt.title(\"Fitness as length increases - all values from all participants interpolated\") \n",
    "plt.xlabel(\"Arm length multiplier\") \n",
    "plt.ylabel(\"Fitness\") \n",
    "plt.grid(True)  \n",
    "plt.show()"
   ]
  },
  {
   "cell_type": "code",
   "execution_count": null,
   "metadata": {},
   "outputs": [],
   "source": []
  }
 ],
 "metadata": {
  "kernelspec": {
   "display_name": "Python 3",
   "language": "python",
   "name": "python3"
  },
  "language_info": {
   "codemirror_mode": {
    "name": "ipython",
    "version": 3
   },
   "file_extension": ".py",
   "mimetype": "text/x-python",
   "name": "python",
   "nbconvert_exporter": "python",
   "pygments_lexer": "ipython3",
   "version": "3.6.5"
  }
 },
 "nbformat": 4,
 "nbformat_minor": 2
}
