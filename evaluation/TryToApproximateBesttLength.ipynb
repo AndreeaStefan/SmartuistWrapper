{
 "cells": [
  {
   "cell_type": "code",
   "execution_count": 1,
   "metadata": {},
   "outputs": [],
   "source": [
    "import numpy as np\n",
    "import matplotlib.pyplot as plt\n",
    "from Helper import *"
   ]
  },
  {
   "cell_type": "code",
   "execution_count": 2,
   "metadata": {},
   "outputs": [],
   "source": [
    "# constants\n",
    "idxLength = 28\n",
    "idxGain = 29\n",
    "player = 0\n",
    "path = \"E:\\\\Andreea\\\\Master\\\\Thesis\\\\Git\\\\TheOne\\\\SmartuistWrapper\\\\tapResultParticipants.csv\"\n",
    "path1 = \"E:\\\\Andreea\\\\Master\\\\Thesis\\\\Git\\\\TheOne\\\\SmartuistWrapper\\\\tapResult.csv\""
   ]
  },
  {
   "cell_type": "code",
   "execution_count": 6,
   "metadata": {},
   "outputs": [],
   "source": [
    "# functions \n",
    "\n",
    "\n",
    "def getPeakGain(gain, lengths, p):\n",
    "    maxGain = 0\n",
    "    for i in range(1, len(gain)):\n",
    "        if(maxGain < gain[i]):\n",
    "            maxGain = gain[i]\n",
    "            lengthMaxGain = lengths[i-1]\n",
    "    print(\"Player: \"+ str(p) + \" peak gain: \" + str(maxGain) + \" at length: \" + str(lengthMaxGain))   \n",
    "    \n",
    "# a list with the results at idx for the given player    \n",
    "def getResultPerPlayer(p, results, idx, unique ):\n",
    "    tmp = results[p]\n",
    "    values = []\n",
    "    for words in tmp:\n",
    "        values.append(float(words[idx]))\n",
    "    if (unique == True):\n",
    "        values =  [x for i, x in enumerate(values) if i == values.index(x)]\n",
    "    return values"
   ]
  },
  {
   "cell_type": "code",
   "execution_count": 13,
   "metadata": {},
   "outputs": [],
   "source": [
    "resultsP = readFromFile(path, 0)\n",
    "results = readFromFile(path1, 0)\n",
    "\n",
    "lengthsSpiral = getResultPerPlayer(player, resultsP, idxLength, True)\n",
    "lengthsCircles = getResultPerPlayer(60, results, idxLength, True)\n",
    "\n",
    "fitnessSpiral = getResultPerPlayer(player, resultsP, idxGain, True)\n",
    "fitnessCircles = getResultPerPlayer(60, results, idxGain, True)"
   ]
  },
  {
   "cell_type": "code",
   "execution_count": 14,
   "metadata": {},
   "outputs": [
    {
     "name": "stdout",
     "output_type": "stream",
     "text": [
      "Player: Spiral peak gain: 17.56981 at length: 2.879756\n",
      "Player: Circles peak gain: 18.73258 at length: 4.984488\n"
     ]
    }
   ],
   "source": [
    "getPeakGain(fitnessSpiral, lengthsSpiral, \"Spiral\")\n",
    "getPeakGain(fitnessCircles, lengthsCircles, \"Circles\")\n"
   ]
  },
  {
   "cell_type": "code",
   "execution_count": null,
   "metadata": {},
   "outputs": [],
   "source": []
  }
 ],
 "metadata": {
  "kernelspec": {
   "display_name": "Python 3",
   "language": "python",
   "name": "python3"
  },
  "language_info": {
   "codemirror_mode": {
    "name": "ipython",
    "version": 3
   },
   "file_extension": ".py",
   "mimetype": "text/x-python",
   "name": "python",
   "nbconvert_exporter": "python",
   "pygments_lexer": "ipython3",
   "version": "3.6.5"
  }
 },
 "nbformat": 4,
 "nbformat_minor": 2
}
