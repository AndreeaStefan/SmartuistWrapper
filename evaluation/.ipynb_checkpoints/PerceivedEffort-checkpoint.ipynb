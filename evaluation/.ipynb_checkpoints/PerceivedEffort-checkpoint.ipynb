{
 "cells": [
  {
   "cell_type": "code",
   "execution_count": 2,
   "metadata": {},
   "outputs": [],
   "source": [
    "import numpy as np\n",
    "import matplotlib.pyplot as plt\n",
    "from Helper import *"
   ]
  },
  {
   "cell_type": "code",
   "execution_count": 3,
   "metadata": {},
   "outputs": [],
   "source": [
    "#GRAPHS#\n",
    "SMALL_SIZE = 20\n",
    "MEDIUM_SIZE = 20\n",
    "BIGGER_SIZE = 24\n",
    "\n",
    "plt.rc('font', size=SMALL_SIZE)          # controls default text sizes\n",
    "plt.rc('axes', titlesize=SMALL_SIZE)     # fontsize of the axes title\n",
    "plt.rc('axes', labelsize=MEDIUM_SIZE)    # fontsize of the x and y labels\n",
    "plt.rc('xtick', labelsize=SMALL_SIZE)    # fontsize of the tick labels\n",
    "plt.rc('ytick', labelsize=SMALL_SIZE)    # fontsize of the tick labels\n",
    "plt.rc('legend', fontsize=SMALL_SIZE)    # legend fontsize\n",
    "plt.rc('figure', titlesize=BIGGER_SIZE)  # fontsize of the figure title"
   ]
  },
  {
   "cell_type": "code",
   "execution_count": 7,
   "metadata": {},
   "outputs": [],
   "source": [
    "# constants\n",
    "\n",
    "# 0 - male, 1 - female \n",
    "gender = [1, 0, 0, 0, 0, 1, 1, 1, 1, 1, 1, 1, 1, 1, 1, 1, 1, # player 0 - 16\n",
    "         0, 0, 0, 0, 0, 0, 0, 0, 0, 0, 0, 0, 0, 0, 0, 0, # 17 - 32\n",
    "         1, 1, 1, 1, 1, 1, 1, 1, 1, 1, 1, 1, 1, 1, 1, 1, # 33 - 48\n",
    "         0, 0, 0, 0, 1, 1, 1, 1, 0, 0 ,0 ,0, 0, 0, 0, 0 ] # 49 - 64 \n",
    "\n",
    "armLength = [24, 28, 28, 28, 28, ]\n",
    "\n",
    "weightPercentageMale = [0.551, 0.0325, 0.0325, 0.1668, 0.1668, 0.0252, 0.0252]\n",
    "weightPercentageFemale = [0.532, 0.029, 0.029, 0.1843, 0.1843, 0.0207, 0.0207]\n",
    "\n",
    "playersTraining = [2, 7, 11, 14, 18, 22, 26, 30, 34, 38, 42, 46, 50, 54, 58, 62]\n",
    "playersBaseline = [4, 9, 13, 16, 19, 24, 28, 31, 36, 39, 43, 48, 51, 56, 60, 63]\n",
    "playersOptimal  = [3, 8, 12, 15, 20, 23, 27, 32, 35, 40, 44, 47, 52, 55, 59, 64]\n",
    "\n",
    "pathPhase1 = \"E:\\\\Andreea\\\\Master\\\\Thesis\\\\Git\\\\TheOne\\\\SmartuistWrapper\\\\perceivedEffortParticipants.csv\"\n",
    "pathPhase2 = \"E:\\\\Andreea\\\\Master\\\\Thesis\\\\Git\\\\TheOne\\\\SmartuistWrapper\\\\perceivedEffortNasa.csv\""
   ]
  },
  {
   "cell_type": "code",
   "execution_count": 30,
   "metadata": {},
   "outputs": [],
   "source": [
    "def readPerceivedEffortPhase2(path):\n",
    "    results = [0] * 100\n",
    "    f = open(path, \"r\")\n",
    "    player = -1\n",
    "    count = 0\n",
    "    for x in f:\n",
    "        if(count > 0):\n",
    "            line = x.split(',')\n",
    "            player = int(line[1])\n",
    "            results[player] = []\n",
    "            for i in range(1, 8):\n",
    "                results[player].append(int(line[i]))\n",
    "        count += 1\n",
    "    f.close()\n",
    "    return results\n",
    "\n",
    "def getResultsForPlayers(results, players):\n",
    "    resultsPlayers = []\n",
    "    for p in players: \n",
    "        resultsPlayers.append(results[p])\n",
    "    return np.array(resultsPlayers)   "
   ]
  },
  {
   "cell_type": "code",
   "execution_count": 31,
   "metadata": {},
   "outputs": [],
   "source": [
    "resultsPhase2 = readPerceivedEffortPhase2(pathPhase2)\n",
    "resultsPhase2Baseline = getResultsForPlayers(resultsPhase2, playersBaseline)\n",
    "resultsPhase2Optimal = getResultsForPlayers(resultsPhase2, playersOptimal)    "
   ]
  },
  {
   "cell_type": "code",
   "execution_count": 34,
   "metadata": {},
   "outputs": [
    {
     "name": "stdout",
     "output_type": "stream",
     "text": [
      "(16, 7)\n",
      "[1 1 1 1 1 1 1 1 1 1 1 1 1 1 1 1]\n",
      "[[ 4  1 14  3 10  2  2]\n",
      " [ 9  1  2  3 12  3  3]\n",
      " [13  1  1  1  2  1  1]\n",
      " [16  1  1  3  1  6  1]\n",
      " [19  1  5  7  8  4 12]\n",
      " [24  1 13  7  9 11  6]\n",
      " [28  1  6 15  9  9 12]\n",
      " [31  1 10 10 10  9  8]\n",
      " [36  1  1  5  2  1  9]\n",
      " [39  1 10  5 10 10  6]\n",
      " [43  1  3  5  9  4  5]\n",
      " [48  1  8 12  6  1 13]\n",
      " [51  1  2  2  2  1  2]\n",
      " [56  1  4  5 11  8  8]\n",
      " [60  1  7  9  6 14 14]\n",
      " [63  1 16 11  4  6 14]]\n"
     ]
    }
   ],
   "source": [
    "# boxPlots per Question\n",
    "idx = 0  \n",
    "idy = 0\n",
    "print(np.shape(resultsPhase2Baseline))\n",
    "for i in range (1, 8):\n",
    "    base = resultsPhase2Baseline[:,i]\n",
    "    optimal = resultsPhase2Optimal[:,i]\n",
    "    axs[idx][idy].boxplot([ base, optimal, labels= [\"Baseline\", \"Optimal\"])\n",
    "    axs[idx][idy].set_title('Q'+str(i))"
   ]
  },
  {
   "cell_type": "code",
   "execution_count": null,
   "metadata": {},
   "outputs": [],
   "source": []
  }
 ],
 "metadata": {
  "kernelspec": {
   "display_name": "Python 3",
   "language": "python",
   "name": "python3"
  },
  "language_info": {
   "codemirror_mode": {
    "name": "ipython",
    "version": 3
   },
   "file_extension": ".py",
   "mimetype": "text/x-python",
   "name": "python",
   "nbconvert_exporter": "python",
   "pygments_lexer": "ipython3",
   "version": "3.6.5"
  }
 },
 "nbformat": 4,
 "nbformat_minor": 2
}
