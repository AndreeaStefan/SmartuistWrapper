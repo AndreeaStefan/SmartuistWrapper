{
 "cells": [
  {
   "cell_type": "code",
   "execution_count": 8,
   "metadata": {},
   "outputs": [],
   "source": [
    "import numpy as np\n",
    "import matplotlib.pyplot as plt\n",
    "from Helper import *"
   ]
  },
  {
   "cell_type": "code",
   "execution_count": 12,
   "metadata": {},
   "outputs": [],
   "source": [
    "# constants\n",
    "playersTraining = [2, 7, 11, 14, 18, 22, 26, 30, 34, 38, 42, 46, 50, 54]\n",
    "playersBaseline = [4, 9, 13, 16, 19, 24, 28, 31, 36, 39]\n",
    "playersOptimal  = [3, 8, 12, 15, 20, 23, 27, 32, 35, 40]\n",
    "path = \"E:\\\\Andreea\\\\Master\\\\Thesis\\\\Git\\\\TheOne\\\\SmartuistWrapper\\\\tapResultParticipants.csv\""
   ]
  },
  {
   "cell_type": "code",
   "execution_count": 13,
   "metadata": {},
   "outputs": [
    {
     "data": {
      "text/plain": [
       "11.800887139845853"
      ]
     },
     "execution_count": 13,
     "metadata": {},
     "output_type": "execute_result"
    }
   ],
   "source": [
    "def getStatisticsPhase3(results, players):\n",
    "    mvmTime = [] \n",
    "    gain = []\n",
    "    for p in players:\n",
    "        tmp = results[p]\n",
    "        time = 0\n",
    "        print(p, getGainPerPlayer(p, results))\n",
    "        gain.append(getGainPerPlayer(p, results))\n",
    "        for words in tmp:\n",
    "            time += float(words[10])\n",
    "        mvmTime.append(time/1000) # time in seconds\n",
    "    return (mvmTime, gain)\n",
    "\n",
    "# gain = (gainEffort + gainTH) / 2\n",
    "def getGainPerPlayer(p, results):\n",
    "    gain = [] \n",
    "    batchSize = 10\n",
    "    nrLessons = 2\n",
    "    playerResults = results[p]\n",
    "    \n",
    "    for l in range(nrLessons):\n",
    "        stupidTh = 0 \n",
    "        sumTh = 0\n",
    "        bodyParts =[ 0 for i in range(7)]\n",
    "        for res in playerResults: #results for a repetition  \n",
    "            if(l == int(res[1])):\n",
    "                for i in range (7):\n",
    "                    bodyParts[i] += 1 / float(res[21+i])\n",
    "                sumTh += float(res[13])\n",
    "                stupidTh += sumTh\n",
    "        \n",
    "        bodyParts = [ x / batchSize for x in bodyParts]\n",
    "        gainEffort = sum(bodyParts) / len(bodyParts)\n",
    "        gainTh = stupidTh / batchSize\n",
    "        gain.append((gainEffort + gainTh) / 2)\n",
    "    \n",
    "    return np.average(gain) \n",
    "        \n",
    "results = readFromFile(path, 0)\n",
    "getGainPerPlayer(14, results)"
   ]
  },
  {
   "cell_type": "code",
   "execution_count": 14,
   "metadata": {},
   "outputs": [
    {
     "name": "stdout",
     "output_type": "stream",
     "text": [
      "4 8.70639075096564\n",
      "9 9.829848363851488\n",
      "13 9.469337582651288\n",
      "16 8.544675731346432\n",
      "19 34.65454701876331\n",
      "24 11.973703161587729\n",
      "28 7.299285795469684\n",
      "31 8.758831472375315\n",
      "36 9.538478540745093\n",
      "39 12.17901839466335\n",
      "3 14.8568070032496\n",
      "8 11.956338312349619\n",
      "12 12.141329051375752\n",
      "15 11.137482480495187\n"
     ]
    },
    {
     "ename": "TypeError",
     "evalue": "'int' object is not iterable",
     "output_type": "error",
     "traceback": [
      "\u001b[1;31m---------------------------------------------------------------------------\u001b[0m",
      "\u001b[1;31mTypeError\u001b[0m                                 Traceback (most recent call last)",
      "\u001b[1;32m<ipython-input-14-b9beb4c2a339>\u001b[0m in \u001b[0;36m<module>\u001b[1;34m\u001b[0m\n\u001b[0;32m      1\u001b[0m \u001b[0mmvmTimeBaseline\u001b[0m\u001b[1;33m,\u001b[0m \u001b[0mgainBaseline\u001b[0m \u001b[1;33m=\u001b[0m \u001b[0mgetStatisticsPhase3\u001b[0m\u001b[1;33m(\u001b[0m\u001b[0mresults\u001b[0m\u001b[1;33m,\u001b[0m \u001b[0mplayersBaseline\u001b[0m\u001b[1;33m)\u001b[0m\u001b[1;33m\u001b[0m\u001b[0m\n\u001b[1;32m----> 2\u001b[1;33m \u001b[0mmvmTimeOptimal\u001b[0m\u001b[1;33m,\u001b[0m \u001b[0mgainOptimal\u001b[0m \u001b[1;33m=\u001b[0m \u001b[0mgetStatisticsPhase3\u001b[0m\u001b[1;33m(\u001b[0m\u001b[0mresults\u001b[0m\u001b[1;33m,\u001b[0m \u001b[0mplayersOptimal\u001b[0m\u001b[1;33m)\u001b[0m\u001b[1;33m\u001b[0m\u001b[0m\n\u001b[0m",
      "\u001b[1;32m<ipython-input-13-0446c9ea9890>\u001b[0m in \u001b[0;36mgetStatisticsPhase3\u001b[1;34m(results, players)\u001b[0m\n\u001b[0;32m      5\u001b[0m         \u001b[0mtmp\u001b[0m \u001b[1;33m=\u001b[0m \u001b[0mresults\u001b[0m\u001b[1;33m[\u001b[0m\u001b[0mp\u001b[0m\u001b[1;33m]\u001b[0m\u001b[1;33m\u001b[0m\u001b[0m\n\u001b[0;32m      6\u001b[0m         \u001b[0mtime\u001b[0m \u001b[1;33m=\u001b[0m \u001b[1;36m0\u001b[0m\u001b[1;33m\u001b[0m\u001b[0m\n\u001b[1;32m----> 7\u001b[1;33m         \u001b[0mprint\u001b[0m\u001b[1;33m(\u001b[0m\u001b[0mp\u001b[0m\u001b[1;33m,\u001b[0m \u001b[0mgetGainPerPlayer\u001b[0m\u001b[1;33m(\u001b[0m\u001b[0mp\u001b[0m\u001b[1;33m,\u001b[0m \u001b[0mresults\u001b[0m\u001b[1;33m)\u001b[0m\u001b[1;33m)\u001b[0m\u001b[1;33m\u001b[0m\u001b[0m\n\u001b[0m\u001b[0;32m      8\u001b[0m         \u001b[0mgain\u001b[0m\u001b[1;33m.\u001b[0m\u001b[0mappend\u001b[0m\u001b[1;33m(\u001b[0m\u001b[0mgetGainPerPlayer\u001b[0m\u001b[1;33m(\u001b[0m\u001b[0mp\u001b[0m\u001b[1;33m,\u001b[0m \u001b[0mresults\u001b[0m\u001b[1;33m)\u001b[0m\u001b[1;33m)\u001b[0m\u001b[1;33m\u001b[0m\u001b[0m\n\u001b[0;32m      9\u001b[0m         \u001b[1;32mfor\u001b[0m \u001b[0mwords\u001b[0m \u001b[1;32min\u001b[0m \u001b[0mtmp\u001b[0m\u001b[1;33m:\u001b[0m\u001b[1;33m\u001b[0m\u001b[0m\n",
      "\u001b[1;32m<ipython-input-13-0446c9ea9890>\u001b[0m in \u001b[0;36mgetGainPerPlayer\u001b[1;34m(p, results)\u001b[0m\n\u001b[0;32m     23\u001b[0m         \u001b[0msumTh\u001b[0m \u001b[1;33m=\u001b[0m \u001b[1;36m0\u001b[0m\u001b[1;33m\u001b[0m\u001b[0m\n\u001b[0;32m     24\u001b[0m         \u001b[0mbodyParts\u001b[0m \u001b[1;33m=\u001b[0m\u001b[1;33m[\u001b[0m \u001b[1;36m0\u001b[0m \u001b[1;32mfor\u001b[0m \u001b[0mi\u001b[0m \u001b[1;32min\u001b[0m \u001b[0mrange\u001b[0m\u001b[1;33m(\u001b[0m\u001b[1;36m7\u001b[0m\u001b[1;33m)\u001b[0m\u001b[1;33m]\u001b[0m\u001b[1;33m\u001b[0m\u001b[0m\n\u001b[1;32m---> 25\u001b[1;33m         \u001b[1;32mfor\u001b[0m \u001b[0mres\u001b[0m \u001b[1;32min\u001b[0m \u001b[0mplayerResults\u001b[0m\u001b[1;33m:\u001b[0m \u001b[1;31m#results for a repetition\u001b[0m\u001b[1;33m\u001b[0m\u001b[0m\n\u001b[0m\u001b[0;32m     26\u001b[0m             \u001b[1;32mif\u001b[0m\u001b[1;33m(\u001b[0m\u001b[0ml\u001b[0m \u001b[1;33m==\u001b[0m \u001b[0mint\u001b[0m\u001b[1;33m(\u001b[0m\u001b[0mres\u001b[0m\u001b[1;33m[\u001b[0m\u001b[1;36m1\u001b[0m\u001b[1;33m]\u001b[0m\u001b[1;33m)\u001b[0m\u001b[1;33m)\u001b[0m\u001b[1;33m:\u001b[0m\u001b[1;33m\u001b[0m\u001b[0m\n\u001b[0;32m     27\u001b[0m                 \u001b[1;32mfor\u001b[0m \u001b[0mi\u001b[0m \u001b[1;32min\u001b[0m \u001b[0mrange\u001b[0m \u001b[1;33m(\u001b[0m\u001b[1;36m7\u001b[0m\u001b[1;33m)\u001b[0m\u001b[1;33m:\u001b[0m\u001b[1;33m\u001b[0m\u001b[0m\n",
      "\u001b[1;31mTypeError\u001b[0m: 'int' object is not iterable"
     ]
    }
   ],
   "source": [
    "mvmTimeBaseline, gainBaseline = getStatisticsPhase3(results, playersBaseline)\n",
    "mvmTimeOptimal, gainOptimal = getStatisticsPhase3(results, playersOptimal)"
   ]
  },
  {
   "cell_type": "code",
   "execution_count": 5,
   "metadata": {},
   "outputs": [
    {
     "data": {
      "image/png": "[encoded data removed]",
      "text/plain": [
       "<Figure size 432x288 with 1 Axes>"
      ]
     },
     "metadata": {
      "needs_background": "light"
     },
     "output_type": "display_data"
    }
   ],
   "source": [
    "plt.boxplot([mvmTimeBaseline, mvmTimeOptimal], labels= [\"Baseline\", \"Optimal\"])\n",
    "plt.title(\"Movement time\")\n",
    "plt.ylabel(\"Seconds\")\n",
    "plt.show()"
   ]
  },
  {
   "cell_type": "code",
   "execution_count": 7,
   "metadata": {},
   "outputs": [
    {
     "name": "stdout",
     "output_type": "stream",
     "text": [
      "[8.70639075096564, 9.829848363851488, 9.469337582651288, 8.544675731346432, 34.65454701876331, 7.299285795469684, 8.758831472375315, 9.538478540745093, 12.17901839466335]\n",
      "[14.8568070032496, 11.956338312349619, 12.141329051375752, 11.137482480495187, 0.42574099202169136, 15.882664586289026, 9.485146607467332, 13.4664644388528, 17.976802399078345, 15.790566769341654]\n"
     ]
    },
    {
     "data": {
      "image/png": "[encoded data removed]",
      "text/plain": [
       "<Figure size 432x288 with 1 Axes>"
      ]
     },
     "metadata": {
      "needs_background": "light"
     },
     "output_type": "display_data"
    }
   ],
   "source": [
    "plt.boxplot([gainBaseline, gainOptimal], labels= [\"Baseline\", \"Optimal\"])\n",
    "plt.title(\"Gain\")\n",
    "plt.ylabel(\"Gain\")\n",
    "plt.show\n",
    "print(gainBaseline)\n",
    "print(gainOptimal)"
   ]
  },
  {
   "cell_type": "code",
   "execution_count": null,
   "metadata": {},
   "outputs": [],
   "source": []
  }
 ],
 "metadata": {
  "kernelspec": {
   "display_name": "Python 3",
   "language": "python",
   "name": "python3"
  },
  "language_info": {
   "codemirror_mode": {
    "name": "ipython",
    "version": 3
   },
   "file_extension": ".py",
   "mimetype": "text/x-python",
   "name": "python",
   "nbconvert_exporter": "python",
   "pygments_lexer": "ipython3",
   "version": "3.6.5"
  }
 },
 "nbformat": 4,
 "nbformat_minor": 2
}
