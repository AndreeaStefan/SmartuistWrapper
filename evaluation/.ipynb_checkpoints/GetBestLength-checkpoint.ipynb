{
 "cells": [
  {
   "cell_type": "code",
   "execution_count": 1,
   "metadata": {},
   "outputs": [],
   "source": [
    "import numpy as np\n",
    "import matplotlib.pyplot as plt"
   ]
  },
  {
   "cell_type": "code",
   "execution_count": null,
   "metadata": {},
   "outputs": [],
   "source": [
    "# constants \n",
    "path = \"E:\\\\Andreea\\\\Projects\\\\Git\\\\SmartsuitWrapper\\\\SmartuistWrapper\\\\tapResult.csv\"\n",
    "playerNr = 63\n",
    "\n",
    "idxLength = 28\n",
    "idxGain = 29"
   ]
  },
  {
   "cell_type": "code",
   "execution_count": null,
   "metadata": {},
   "outputs": [],
   "source": [
    "def readFromFile(path):\n",
    "    results = [0] * 100\n",
    "    f = open(path, \"r\")\n",
    "    player = -1\n",
    "    for x in f:\n",
    "        line = x.split(',')        \n",
    "        if int(line[0]) == player:\n",
    "            results[player].append(line)\n",
    "        else:\n",
    "            player = int(line[0])\n",
    "            results[player] = []\n",
    "            results[player].append(line)\n",
    "    f.close()\n",
    "    return results\n",
    "\n",
    "\n",
    "# a list with the results at idx for the given player    \n",
    "def getResultPerPlayer(p, results, idx, unique ):\n",
    "    tmp = results[p]\n",
    "    values = []\n",
    "    for words in tmp:\n",
    "        values.append(float(words[idx]))\n",
    "    if (unique == True):\n",
    "        values =  [x for i, x in enumerate(values) if i == values.index(x)]\n",
    "    return values"
   ]
  },
  {
   "cell_type": "code",
   "execution_count": null,
   "metadata": {},
   "outputs": [],
   "source": [
    "results = readFromFile(path)\n",
    "\n",
    "lengths = getResultPerPlayer(playerNr, results, idxLength, True)\n",
    "gain = getResultPerPlayer(playerNr, results, idxGain, True)\n"
   ]
  }
 ],
 "metadata": {
  "kernelspec": {
   "display_name": "Python 3",
   "language": "python",
   "name": "python3"
  },
  "language_info": {
   "codemirror_mode": {
    "name": "ipython",
    "version": 3
   },
   "file_extension": ".py",
   "mimetype": "text/x-python",
   "name": "python",
   "nbconvert_exporter": "python",
   "pygments_lexer": "ipython3",
   "version": "3.6.8"
  }
 },
 "nbformat": 4,
 "nbformat_minor": 2
}
