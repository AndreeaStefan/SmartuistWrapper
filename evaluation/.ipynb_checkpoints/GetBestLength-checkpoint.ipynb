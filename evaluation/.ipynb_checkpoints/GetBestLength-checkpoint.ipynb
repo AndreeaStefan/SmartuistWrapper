{
 "cells": [
  {
   "cell_type": "code",
   "execution_count": 2,
   "metadata": {},
   "outputs": [],
   "source": [
    "import numpy as np\n",
    "import matplotlib.pyplot as plt"
   ]
  },
  {
   "cell_type": "code",
   "execution_count": 8,
   "metadata": {},
   "outputs": [],
   "source": [
    "# constants \n",
    "path = \"E:\\\\Andreea\\\\Master\\\\Thesis\\\\Git\\\\TheOne\\\\SmartuistWrapper\\\\tapResultParticipants.csv\"\n",
    "playerNr = 54\n",
    "idxLength = 28\n",
    "idxGain = 29"
   ]
  },
  {
   "cell_type": "code",
   "execution_count": 9,
   "metadata": {},
   "outputs": [],
   "source": [
    "def readFromFile(path):\n",
    "    results = [0] * 100\n",
    "    f = open(path, \"r\")\n",
    "    player = -1\n",
    "    for x in f:\n",
    "        line = x.split(',')\n",
    "        if len(line) == 31:\n",
    "            if int(line[0]) == player:\n",
    "                results[player].append(line)\n",
    "            else:\n",
    "                player = int(line[0])\n",
    "                results[player] = []\n",
    "                results[player].append(line)\n",
    "    f.close()\n",
    "    return results\n",
    "\n",
    "\n",
    "# a list with the results at idx for the given player    \n",
    "def getResultPerPlayer(p, results, idx, unique ):\n",
    "    tmp = results[p]\n",
    "    values = []\n",
    "    for words in tmp:\n",
    "        values.append(float(words[idx]))\n",
    "    if (unique == True):\n",
    "        values =  [x for i, x in enumerate(values) if i == values.index(x)]\n",
    "    return values\n",
    "\n",
    "# sort list1 - use the indexes of the sorted list1 to rearrage list2    \n",
    "def getCombinedPlot(list1, list2):\n",
    "    idx   = np.argsort(list1)\n",
    "    list1 = np.array(list1)[idx]\n",
    "    list2 = np.array(list2)[idx]\n",
    "    \n",
    "    plt.xticks(np.arange(min(list1), max(list1)+1, 1.0))\n",
    "    plt.plot(list1[1:], list2[1:], 'o-')\n",
    "    plt.show()\n",
    "        \n",
    "    return (list1, list2)"
   ]
  },
  {
   "cell_type": "code",
   "execution_count": 1,
   "metadata": {},
   "outputs": [
    {
     "ename": "NameError",
     "evalue": "name 'readFromFile' is not defined",
     "output_type": "error",
     "traceback": [
      "\u001b[1;31m---------------------------------------------------------------------------\u001b[0m",
      "\u001b[1;31mNameError\u001b[0m                                 Traceback (most recent call last)",
      "\u001b[1;32m<ipython-input-1-c7859769d23e>\u001b[0m in \u001b[0;36m<module>\u001b[1;34m\u001b[0m\n\u001b[1;32m----> 1\u001b[1;33m \u001b[0mresults\u001b[0m \u001b[1;33m=\u001b[0m \u001b[0mreadFromFile\u001b[0m\u001b[1;33m(\u001b[0m\u001b[0mpath\u001b[0m\u001b[1;33m)\u001b[0m\u001b[1;33m\u001b[0m\u001b[0m\n\u001b[0m\u001b[0;32m      2\u001b[0m \u001b[1;33m\u001b[0m\u001b[0m\n\u001b[0;32m      3\u001b[0m \u001b[0mlengths\u001b[0m \u001b[1;33m=\u001b[0m \u001b[0mgetResultPerPlayer\u001b[0m\u001b[1;33m(\u001b[0m\u001b[0mplayerNr\u001b[0m\u001b[1;33m,\u001b[0m \u001b[0mresults\u001b[0m\u001b[1;33m,\u001b[0m \u001b[0midxLength\u001b[0m\u001b[1;33m,\u001b[0m \u001b[1;32mTrue\u001b[0m\u001b[1;33m)\u001b[0m\u001b[1;33m\u001b[0m\u001b[0m\n\u001b[0;32m      4\u001b[0m \u001b[0mgain\u001b[0m \u001b[1;33m=\u001b[0m \u001b[0mgetResultPerPlayer\u001b[0m\u001b[1;33m(\u001b[0m\u001b[0mplayerNr\u001b[0m\u001b[1;33m,\u001b[0m \u001b[0mresults\u001b[0m\u001b[1;33m,\u001b[0m \u001b[0midxGain\u001b[0m\u001b[1;33m,\u001b[0m \u001b[1;32mTrue\u001b[0m\u001b[1;33m)\u001b[0m\u001b[1;33m\u001b[0m\u001b[0m\n\u001b[0;32m      5\u001b[0m \u001b[1;33m\u001b[0m\u001b[0m\n",
      "\u001b[1;31mNameError\u001b[0m: name 'readFromFile' is not defined"
     ]
    }
   ],
   "source": [
    "results = readFromFile(path)\n",
    "\n",
    "lengths = getResultPerPlayer(playerNr, results, idxLength, True)\n",
    "gain = getResultPerPlayer(playerNr, results, idxGain, True)\n",
    "\n",
    "for i in range(len(lengths)-1, 1, -1):   \n",
    "        lengths[i] = lengths[i-1]\n",
    "\n",
    "\n",
    "gain, lengths = getCombinedPlot(gain, lengths)\n",
    "\n",
    "# get avg length for the top 3 values of gain\n",
    "avg = sum(lengths[-3:]) / 3\n",
    "print(\"Optimal lenght: \", avg)"
   ]
  },
  {
   "cell_type": "code",
   "execution_count": null,
   "metadata": {},
   "outputs": [],
   "source": []
  },
  {
   "cell_type": "code",
   "execution_count": null,
   "metadata": {},
   "outputs": [],
   "source": []
  }
 ],
 "metadata": {
  "kernelspec": {
   "display_name": "Python 3",
   "language": "python",
   "name": "python3"
  },
  "language_info": {
   "codemirror_mode": {
    "name": "ipython",
    "version": 3
   },
   "file_extension": ".py",
   "mimetype": "text/x-python",
   "name": "python",
   "nbconvert_exporter": "python",
   "pygments_lexer": "ipython3",
   "version": "3.6.5"
  }
 },
 "nbformat": 4,
 "nbformat_minor": 2
}
