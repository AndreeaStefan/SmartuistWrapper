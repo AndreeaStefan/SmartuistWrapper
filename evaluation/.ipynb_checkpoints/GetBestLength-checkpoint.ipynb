{
 "cells": [
  {
   "cell_type": "code",
   "execution_count": 1,
   "metadata": {},
   "outputs": [],
   "source": [
    "import numpy as np\n",
    "import matplotlib.pyplot as plt"
   ]
  },
  {
   "cell_type": "code",
   "execution_count": 2,
   "metadata": {},
   "outputs": [],
   "source": [
    "# constants \n",
    "path = \"E:\\\\Andreea\\\\Master\\\\Thesis\\\\Git\\\\TheOne\\\\SmartuistWrapper\\\\tapResultParticipants.csv\"\n",
    "pathH = \"C:\\\\Users\\\\huber\\\\OneDrive\\\\Dokumenty\\\\thesis-hubert\\\\unity\\\\SmartuistWrapper\\\\tapResultParticipants.csv\"\n",
    "playerNr = 46\n",
    "players = [2, 7, 11, 14, 18, 22, 26, 30, 34, 38, 42, 46, 50, 54, 58, 62] #26, 58\n",
    "males = [0, 4, 5 , 6, 7, 12, 14, 15]\n",
    "females = [1, 2, 3, 8, 9, 10, 11, 13]\n",
    "gender = [0, 1, 1, 1, 0, 0, 0,  0,  1, 1, 1, 1, 0, 1, 0, 0]\n",
    "armLength = np.array([28, 23.5, 27, 27, 28, 27, 26, 28,  23, 26, 24, 26, 27, 24, 27, 29])\n",
    "height = np.array([1.7, 1.73, 1.65, 1.72, 1.77, 1.82, 181, 1.79, 1.6, 1.7, 1.7, 1.65, 1.8, 1.78, 184, 1.85 ])\n",
    "idxLength = 28\n",
    "idxGain = 29"
   ]
  },
  {
   "cell_type": "code",
   "execution_count": 3,
   "metadata": {},
   "outputs": [],
   "source": [
    "def readFromFile(path):\n",
    "    results = [0] * 100\n",
    "    f = open(path, \"r\")\n",
    "    player = -1\n",
    "    for x in f:\n",
    "        line = x.split(',')\n",
    "        if len(line) == 31:\n",
    "            if int(line[0]) == player:\n",
    "                results[player].append(line)\n",
    "            else:\n",
    "                player = int(line[0])\n",
    "                results[player] = []\n",
    "                results[player].append(line)\n",
    "    f.close()\n",
    "    return results\n",
    "\n",
    "\n",
    "# a list with the results at idx for the given player    \n",
    "def getResultPerPlayer(p, results, idx, unique ):\n",
    "    tmp = results[p]\n",
    "    values = []\n",
    "    for words in tmp:\n",
    "        values.append(float(words[idx]))\n",
    "    if (unique == True):\n",
    "        values =  [x for i, x in enumerate(values) if i == values.index(x)]\n",
    "    return values\n",
    "\n",
    "# sort list1 - use the indexes of the sorted list1 to rearrage list2    \n",
    "def getCombinedPlot(list1, list2):\n",
    "    idx   = np.argsort(list1)\n",
    "    list1 = np.array(list1)[idx]\n",
    "    list2 = np.array(list2)[idx]\n",
    "    return (list1, list2)\n",
    "\n",
    "# get avg effort and distance per body parts\n",
    "def EffortPerBodyPartPerPlayer(p, results, batchSize):\n",
    "    effortBodyParts = [ 0 for i in range(7)]\n",
    "    distBodyParts = [ 0 for i in range(7)]\n",
    "    tmp = results[p]\n",
    "    counter = 0\n",
    "    \n",
    "    for words in tmp:            \n",
    "        for i in range (7):\n",
    "            effortBodyParts[i] += float(words[21+i])\n",
    "            distBodyParts[i] += float(words[14+i])            \n",
    "        counter = counter + 1\n",
    "\n",
    "    for i in range(7):\n",
    "        effortBodyParts[i] /= counter\n",
    "    return (effortBodyParts, distBodyParts)\n",
    "\n",
    "def getResults(results, players):\n",
    "    efforBodyParts = []\n",
    "    distBodyParts = []\n",
    "    for p in players:\n",
    "        tmp = results[p]\n",
    "        effort, dist = EffortPerBodyPartPerPlayer(p, results, 10)\n",
    "        efforBodyParts.append(effort)\n",
    "        distBodyParts.append(dist)\n",
    "    return ( efforBodyParts, distBodyParts)"
   ]
  },
  {
   "cell_type": "code",
   "execution_count": 4,
   "metadata": {},
   "outputs": [],
   "source": [
    "results = readFromFile(path)\n",
    "efforBodyParts, distBodyParts = getResults(results, players)"
   ]
  },
  {
   "cell_type": "code",
   "execution_count": 5,
   "metadata": {},
   "outputs": [
    {
     "name": "stdout",
     "output_type": "stream",
     "text": [
      "4.902864666666666\n"
     ]
    }
   ],
   "source": [
    "# get best length for player p - as it was used in the experiment \n",
    "p = 46\n",
    "\n",
    "lengths = getResultPerPlayer(p, results, idxLength, True)\n",
    "gain = getResultPerPlayer(p, results, idxGain, True)\n",
    "\n",
    "for i in range(len(lengths)-1, 1, -1):   \n",
    "    lengths[i] = lengths[i-1]\n",
    "gain, lengths = getCombinedPlot(gain, lengths)\n",
    "\n",
    " # get avg length for the top 3 values of gain\n",
    "avg = sum(lengths[-3:]) / 3\n",
    "print(avg)"
   ]
  },
  {
   "cell_type": "code",
   "execution_count": 17,
   "metadata": {},
   "outputs": [],
   "source": [
    "def getResultsPerPlayerType(results, players):\n",
    "    l = []\n",
    "    avgGain = []\n",
    "    avgMvmTime = []\n",
    "    effortAvg = []\n",
    "    distAvg = []\n",
    "    for p in range(len(players)):\n",
    "        lengths = getResultPerPlayer(players[p], results, idxLength, True)\n",
    "        gain = getResultPerPlayer(players[p], results, idxGain, True)\n",
    "        mvmTime = getResultPerPlayer(players[p], results, 10, True)\n",
    "\n",
    "        for i in range(len(lengths)-1, 1, -1):   \n",
    "                lengths[i] = lengths[i-1]\n",
    "\n",
    "        gain, lengths = getCombinedPlot(gain, lengths) #sort lengths based on gain \n",
    "        gain = getResultPerPlayer(players[p], results, idxGain, True)\n",
    "        gain, mvmTime = getCombinedPlot(gain, mvmTime) #sort mvmTime based on gain \n",
    "        \n",
    "        # get avg length for the top 3 values of gain\n",
    "        avg = sum(lengths[-3:]) / 3\n",
    "        effortAvg.append(efforBodyParts[p])\n",
    "        distAvg.append(distBodyParts[p])\n",
    "        avgGain.append(sum(gain) / len(gain))\n",
    "        avgMvmTime.append(sum(mvmTime[-3:]) / 3)\n",
    "\n",
    "        l.append(avg)\n",
    "    return (np.array(l), np.array(avgGain), np.array(avgMvmTime), np.array(effortAvg), np.array(distAvg))"
   ]
  },
  {
   "cell_type": "code",
   "execution_count": 18,
   "metadata": {
    "scrolled": true
   },
   "outputs": [],
   "source": [
    "# get results per gender\n",
    "\n",
    "l, avgGain, avgMvmTime, effortAvg, distAvg = getResultsPerPlayerType(results, players)\n",
    "\n",
    "multiplierF = list(l[females])\n",
    "multiplierM = list(l[males])\n",
    "\n",
    "avgGainF = list(avgGain[females])\n",
    "avgGainM = list(avgGain[males])\n",
    "\n",
    "avgMvmTimeF = list(avgMvmTime[females])\n",
    "avgMvmTimeM = list(avgMvmTime[males])\n",
    "\n",
    "effortF = list(effortAvg[females])\n",
    "effortM = list(effortAvg[males])\n",
    "\n",
    "distF = list(distAvg[females])\n",
    "distM = list(distAvg[males])\n",
    "\n",
    "armLengthF = list(np.array(armLength[females]))\n",
    "armLengthM = list(armLength[males])\n",
    "\n",
    "armLengthVr = np.array([l[i] * armLength[i] for i in range(len(l))])\n",
    "armLengthVrM = list(armLengthVr[males])\n",
    "armLengthVrF = list(armLengthVr[females])\n",
    "\n",
    "heightF = list(height[females])\n",
    "heightM = list(height[males])"
   ]
  },
  {
   "cell_type": "code",
   "execution_count": 19,
   "metadata": {},
   "outputs": [
    {
     "name": "stdout",
     "output_type": "stream",
     "text": [
      "Avg best length: 4.543219729166666\n",
      "Avg male best length: 5.215382458333334\n",
      "Avg female best length: 3.871057\n",
      "[3.899167666666667, 2.4882649999999997, 3.390385666666667, 6.204683333333334, 3.0021586666666664, 4.2141090000000005, 4.902864666666666, 2.8668219999999995]\n",
      "[4.938574, 5.271202333333334, 5.0918746666666665, 7.186349, 4.136910333333334, 5.445905666666667, 6.953631000000001, 2.698612666666667]\n"
     ]
    }
   ],
   "source": [
    "      \n",
    "print(\"Avg best length:\", sum(l) / len(l) )\n",
    "print(\"Avg male best length:\", sum(multiplierM) / len(multiplierM)  )\n",
    "print(\"Avg female best length:\", sum(multiplierF) / len(multiplierF) )\n",
    "\n",
    "print(multiplierF)\n",
    "print(multiplierM)"
   ]
  },
  {
   "cell_type": "code",
   "execution_count": 21,
   "metadata": {},
   "outputs": [
    {
     "name": "stdout",
     "output_type": "stream",
     "text": [
      "multiplier/Effor body Male: \n",
      "Spearmans correlation p-value: 0.5309229\n",
      "Kendall correlation p-value: 0.4579011\n",
      " \n",
      "multiplier/Effor leftUpperArm Male: \n",
      "Spearmans correlation p-value: 0.7357649\n",
      "Kendall correlation p-value: 0.8045709\n",
      " \n",
      "multiplier/Effor RightUpperArm Male: \n",
      "Spearmans correlation p-value: 0.6932388\n",
      "Kendall correlation p-value: 0.6206907\n",
      " \n",
      "multiplier/Effor RightFoot Male: \n",
      "Spearmans correlation p-value: 0.7357649\n",
      "Kendall correlation p-value: 0.8045709\n",
      " \n",
      "multiplier/Effor LeftFoot Male: \n",
      "Spearmans correlation p-value: 0.6103444\n",
      "Kendall correlation p-value: 0.4579011\n",
      " \n",
      "multiplier/Effor LeftHand Male: \n",
      "Spearmans correlation p-value: 0.0709877\n",
      "Kendall correlation p-value: 0.0477612\n",
      " \n",
      "multiplier/Effor RightHand Male: \n",
      "Spearmans correlation p-value: 0.0101755\n",
      "Kendall correlation p-value: 0.0259525\n",
      " \n",
      "multiplier/Effor body Female: \n",
      "Spearmans correlation p-value: 0.0038503\n",
      "Kendall correlation p-value: 0.0133476\n",
      " \n",
      "multiplier/Effor leftUpperArm Female: \n",
      "Spearmans correlation p-value: 0.0020083\n",
      "Kendall correlation p-value: 0.0064929\n",
      " \n",
      "multiplier/Effor RightUpperArm Female: \n",
      "Spearmans correlation p-value: 0.0038503\n",
      "Kendall correlation p-value: 0.0133476\n",
      " \n",
      "multiplier/Effor RightFoot Female: \n",
      "Spearmans correlation p-value: 0.0065300\n",
      "Kendall correlation p-value: 0.0064929\n",
      " \n",
      "multiplier/Effor LeftFoot Female: \n",
      "Spearmans correlation p-value: 0.0020083\n",
      "Kendall correlation p-value: 0.0064929\n",
      " \n",
      "multiplier/Effor LeftHand Female: \n",
      "Spearmans correlation p-value: 0.5309229\n",
      "Kendall correlation p-value: 0.3222996\n",
      " \n",
      "multiplier/Effor RightHand Female: \n",
      "Spearmans correlation p-value: 0.1017330\n",
      "Kendall correlation p-value: 0.1376458\n",
      " \n",
      " \n"
     ]
    }
   ],
   "source": [
    "from scipy.stats import pearsonr, spearmanr, kendalltau\n",
    "\n",
    "def findCorelation(data1, data2, label=\"\"):\n",
    "    print(label)\n",
    "    covariance = np.cov(data1, data2)\n",
    "    #print(covariance)\n",
    "\n",
    "    # calculate spearman's correlation\n",
    "    coef, p = spearmanr(data1, data2) \n",
    "    print('Spearmans correlation p-value: %.7f' % p)\n",
    "       \n",
    "    # calculate kendall's correlation\n",
    "    coef, p = kendalltau(data1, data2)\n",
    "   # print('Kendall correlation coefficient: %.3f' % coef)\n",
    "    print('Kendall correlation p-value: %.7f' % p)\n",
    "    print(\" \")\n",
    "\n",
    "\n",
    "effortF = np.array(effortF)\n",
    "effortM = np.array(effortM)\n",
    "\n",
    "\n",
    "# findCorelation(armLengthVrF, avgMvmTimeF, \"ArmLengthVR/MvmTime Female: \")  #yes kendal: top 3 mvm time, 0.08 avg all mvm time  \n",
    "# findCorelation(armLengthVrM, avgMvmTimeM, \"ArmLengthVR/MvmTime Male: \")  #NOP\n",
    "\n",
    "# findCorelation(multiplierF, avgMvmTimeF, \"ArmLengthMultiplier/MvmTime Female: \")  # fes for kendall   \n",
    "# findCorelation(multiplierM, avgMvmTimeM, \"ArmLengthMultiplier/MvmTime Male: \") # nop - worse then armLenghtVr\n",
    "\n",
    "# findCorelation(avgGain, armLengthVr, \"ArmLengthVR/Gain: \") # nop \n",
    "# findCorelation(avgGainF, multiplierF, \"multiplier /Gain Female: \") # 0.08  \n",
    "# findCorelation(avgGainM, multiplierM, \"multiplier/Gain Male: \") # nop \n",
    "\n",
    "# findCorelation(l, avgMvmTime, \"ArmLengthMultiplier/MvmTime : \") # nop \n",
    "\n",
    "# findCorelation(armLengthVrF, heightF, \"ArmLengthVR/Height female: \") # nop \n",
    "# findCorelation(armLengthVrM, heightM, \"ArmLengthVR/Height Male: \") #nop\n",
    "\n",
    "# findCorelation(multiplierF, heightF, \"length multipler/Height female: \")  #nop\n",
    "# findCorelation(multiplierM, heightM, \"length multipler/Height Male: \") #nop\n",
    "# findCorelation(l, height, \"length multipler/Height : \") \n",
    "\n",
    "# findCorelation(armLength, height, \"arm length/Height : \") # nop\n",
    "# findCorelation(armLengthF, heightF, \"arm length/Height F : \") #nop\n",
    "# findCorelation(armLengthM, heightM, \"arm length/Height M: \") #nop\n",
    "\n",
    "# findCorelation(armLength, armLengthVr, \"armLength/ArmLengthVR : \") #nop\n",
    "# findCorelation(armLengthVr, height, \"armLengthVR/height : \") #nop\n",
    "\n",
    "# body, leftUpperArm, RightUpperArm, RightFoot, LeftFoot, LeftHand, RightHand\n",
    "findCorelation(effortM[:,0], multiplierM, \"multiplier/Effor body Male: \") # nop \n",
    "findCorelation(effortM[:,1], multiplierM, \"multiplier/Effor leftUpperArm Male: \") # nop \n",
    "findCorelation(effortM[:,2], multiplierM, \"multiplier/Effor RightUpperArm Male: \") # nop \n",
    "findCorelation(effortM[:,3], multiplierM, \"multiplier/Effor RightFoot Male: \") # nop \n",
    "findCorelation(effortM[:,4], multiplierM, \"multiplier/Effor LeftFoot Male: \") # nop \n",
    "findCorelation(effortM[:,5], multiplierM, \"multiplier/Effor LeftHand Male: \") # yes \n",
    "findCorelation(effortM[:,6], multiplierM, \"multiplier/Effor RightHand Male: \") # yes Spermans \n",
    "\n",
    "\n",
    "findCorelation(effortF[:,0], multiplierF, \"multiplier/Effor body Female: \") # yes \n",
    "findCorelation(effortF[:,1], multiplierF, \"multiplier/Effor leftUpperArm Female: \") # yes \n",
    "findCorelation(effortF[:,2], multiplierF, \"multiplier/Effor RightUpperArm Female: \") # yes \n",
    "findCorelation(effortF[:,3], multiplierF, \"multiplier/Effor RightFoot Female: \") # yes \n",
    "findCorelation(effortF[:,4], multiplierF, \"multiplier/Effor LeftFoot Female: \") # yes \n",
    "findCorelation(effortF[:,5], multiplierF, \"multiplier/Effor LeftHand Female: \") # nop \n",
    "findCorelation(effortF[:,6], multiplierF, \"multiplier/Effor RightHand Female: \") # nop \n",
    "\n",
    "print(\" \")"
   ]
  },
  {
   "cell_type": "code",
   "execution_count": 23,
   "metadata": {},
   "outputs": [
    {
     "data": {
      "image/png": "[encoded data removed]",
      "text/plain": [
       "<Figure size 432x288 with 1 Axes>"
      ]
     },
     "metadata": {
      "needs_background": "light"
     },
     "output_type": "display_data"
    },
    {
     "data": {
      "image/png": "[encoded data removed]",
      "text/plain": [
       "<Figure size 432x288 with 1 Axes>"
      ]
     },
     "metadata": {
      "needs_background": "light"
     },
     "output_type": "display_data"
    }
   ],
   "source": [
    "plt.plot(armLengthF, avgMvmTimeF, 'o')\n",
    "plt.xlabel(\"arm length (cm)\")\n",
    "plt.ylabel(\"movement time (sec)\")\n",
    "plt.show()\n",
    "\n",
    "plt.plot(armLengthM, avgMvmTimeM,  'o')\n",
    "plt.xlabel(\"arm length (cm)\")\n",
    "plt.ylabel(\"movement time (sec)\")\n",
    "plt.show()"
   ]
  },
  {
   "cell_type": "code",
   "execution_count": 33,
   "metadata": {},
   "outputs": [
    {
     "data": {
      "image/png": "[encoded data removed]",
      "text/plain": [
       "<Figure size 1080x720 with 4 Axes>"
      ]
     },
     "metadata": {
      "needs_background": "light"
     },
     "output_type": "display_data"
    }
   ],
   "source": [
    "fig, axs = plt.subplots(nrows = 2, ncols = 2, figsize=(15,10))\n",
    "\n",
    "\n",
    "axs[0][0].boxplot([ multiplierF, multiplierM ], labels= [ \"Female\", \"Male\"])\n",
    "axs[0][0].set_title(\"Best Length\")\n",
    "axs[0][0].set_ylabel(\"Scale multiplier\")\n",
    "axs[0][0].grid(True)\n",
    "\n",
    "axs[0][1].boxplot([avgMvmTimeF, avgMvmTimeM], labels= [\"Female\", \"Male\"])\n",
    "axs[0][1].set_title(\"Avg movement time per repetition (top)\")\n",
    "axs[0][1].set_ylabel(\"Seconds\")\n",
    "axs[0][1].grid(True)\n",
    "\n",
    "axs[1][0].boxplot([avgGainF, avgGainM], labels= [\"Female\", \"Male\"])\n",
    "axs[1][0].set_title(\"Avg fitness per repetition (top)\")\n",
    "axs[1][0].set_ylabel(\"\")\n",
    "axs[1][0].grid(True)\n",
    "\n",
    "axs[1][1].boxplot([effortF[:,0], effortM[:,0]], labels= [\"Female\", \"Male\"], showfliers=False)\n",
    "axs[1][1].set_title(\"Overall Effort\")\n",
    "axs[1][1].set_ylabel(\"\")\n",
    "axs[1][1].grid(True)\n",
    "plt.savefig(\"NasaTLX\",bbox_inches='tight', dpi=150)"
   ]
  },
  {
   "cell_type": "code",
   "execution_count": 26,
   "metadata": {},
   "outputs": [
    {
     "data": {
      "image/png": "[encoded data removed]",
      "text/plain": [
       "<Figure size 432x288 with 1 Axes>"
      ]
     },
     "metadata": {
      "needs_background": "light"
     },
     "output_type": "display_data"
    },
    {
     "data": {
      "image/png": "[encoded data removed]",
      "text/plain": [
       "<Figure size 432x288 with 1 Axes>"
      ]
     },
     "metadata": {
      "needs_background": "light"
     },
     "output_type": "display_data"
    }
   ],
   "source": [
    "# combine plot for length and movement time\n",
    "\n",
    "length2, gain2 = getCombinedPlot(l, avgGain)\n",
    "length2, mvmTim2 = getCombinedPlot(l, avgMvmTime)\n",
    "\n",
    "plt.xticks(np.arange(min(length2), max(length2)+1, 1.0))\n",
    "plt.plot(length2[1:], mvmTim2[1:], 'o-')\n",
    "plt.show()\n",
    "\n",
    "plt.xticks(np.arange(min(length2), max(length2)+1, 1.0))\n",
    "plt.plot(length2, gain2, 'o-')\n",
    "plt.show()"
   ]
  },
  {
   "cell_type": "code",
   "execution_count": null,
   "metadata": {},
   "outputs": [],
   "source": []
  }
 ],
 "metadata": {
  "kernelspec": {
   "display_name": "Python 3",
   "language": "python",
   "name": "python3"
  },
  "language_info": {
   "codemirror_mode": {
    "name": "ipython",
    "version": 3
   },
   "file_extension": ".py",
   "mimetype": "text/x-python",
   "name": "python",
   "nbconvert_exporter": "python",
   "pygments_lexer": "ipython3",
   "version": "3.6.5"
  }
 },
 "nbformat": 4,
 "nbformat_minor": 2
}
