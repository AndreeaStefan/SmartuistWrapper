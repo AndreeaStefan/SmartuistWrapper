{
 "cells": [
  {
   "cell_type": "code",
   "execution_count": 61,
   "metadata": {},
   "outputs": [],
   "source": [
    "import numpy as np\n",
    "import matplotlib.pyplot as plt\n",
    "from Helper import readFromFile"
   ]
  },
  {
   "cell_type": "code",
   "execution_count": 62,
   "metadata": {},
   "outputs": [],
   "source": [
    "# constants\n",
    "playersTraining = [2, 7, 11, 14, 18, 22, 26, 30, 34, 38, 42, 46, 50, 54]\n",
    "playersBaseline = [4, 9, 13, 16, 19, 24, 28, 31, 36, 39]\n",
    "playersOptimal  = [3, 8, 12, 15, 21, 23, 27, 32, 35, 40]\n",
    "path = \"E:\\\\Andreea\\\\Master\\\\Thesis\\\\Git\\\\TheOne\\\\SmartuistWrapper\\\\tapResultParticipants.csv\""
   ]
  },
  {
   "cell_type": "code",
   "execution_count": 76,
   "metadata": {},
   "outputs": [],
   "source": [
    "def getStatisticsPhase3(results, players):\n",
    "    mvmTime = [] \n",
    "    for p in players:\n",
    "        tmp = results[p]\n",
    "        time = 0\n",
    "        gain = []\n",
    "        \n",
    "        for words in tmp:\n",
    "            time += float(words[10])\n",
    "            gain.append(float(words[29])) #\n",
    "        mvmTime.append(time/1000) # time in seconds\n",
    "    return (mvmTime, gain)"
   ]
  },
  {
   "cell_type": "code",
   "execution_count": 78,
   "metadata": {},
   "outputs": [
    {
     "name": "stdout",
     "output_type": "stream",
     "text": [
      "[82.425, 65.436, 48.073, 48.616, 90.682, 34.228, 60.845, 51.345, 46.063, 39.429]\n",
      "[62.501, 60.486, 39.817, 38.132, 35.152, 26.753, 57.939, 37.953, 35.432, 32.66]\n"
     ]
    }
   ],
   "source": [
    "results = readFromFile(path, 0)\n",
    "mvmTimeBaseline, gainBaseline = getStatisticsPhase3(results, playersBaseline)\n",
    "mvmTimeOptimal, gainOptimal = getStatisticsPhase3(results, playersOptimal)\n",
    "print(mvmTimeBaseline)\n",
    "print(mvmTimeOptimal)"
   ]
  },
  {
   "cell_type": "code",
   "execution_count": 86,
   "metadata": {},
   "outputs": [
    {
     "data": {
      "text/plain": [
       "Text(0, 0.5, 'Seconds')"
      ]
     },
     "execution_count": 86,
     "metadata": {},
     "output_type": "execute_result"
    },
    {
     "data": {
      "image/png": "[encoded data removed]",
      "text/plain": [
       "<Figure size 432x288 with 1 Axes>"
      ]
     },
     "metadata": {
      "needs_background": "light"
     },
     "output_type": "display_data"
    }
   ],
   "source": [
    "plt.boxplot([mvmTimeBaseline, mvmTimeOptimal], labels= [\"Baseline\", \"Optimal\"])\n",
    "plt.title(\"Movement time\")\n",
    "plt.ylabel(\"Seconds\")"
   ]
  },
  {
   "cell_type": "code",
   "execution_count": null,
   "metadata": {},
   "outputs": [],
   "source": []
  }
 ],
 "metadata": {
  "kernelspec": {
   "display_name": "Python 3",
   "language": "python",
   "name": "python3"
  },
  "language_info": {
   "codemirror_mode": {
    "name": "ipython",
    "version": 3
   },
   "file_extension": ".py",
   "mimetype": "text/x-python",
   "name": "python",
   "nbconvert_exporter": "python",
   "pygments_lexer": "ipython3",
   "version": "3.6.5"
  }
 },
 "nbformat": 4,
 "nbformat_minor": 2
}
