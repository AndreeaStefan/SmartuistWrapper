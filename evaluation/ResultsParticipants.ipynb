{
 "cells": [
  {
   "cell_type": "code",
   "execution_count": 1,
   "metadata": {},
   "outputs": [],
   "source": [
    "import numpy as np\n",
    "import matplotlib.pyplot as plt\n",
    "from Helper import *"
   ]
  },
  {
   "cell_type": "code",
   "execution_count": 2,
   "metadata": {},
   "outputs": [],
   "source": [
    "# constants\n",
    "playersTraining = [2, 7, 11, 14, 18, 22, 26, 30, 34, 38, 42, 46, 50, 54]\n",
    "playersBaseline = [4, 9, 13, 16, 19, 24, 28, 31, 36, 39]\n",
    "playersOptimal  = [3, 8, 12, 15, 20, 23, 27, 32, 35, 40]\n",
    "path = \"E:\\\\Andreea\\\\Master\\\\Thesis\\\\Git\\\\TheOne\\\\SmartuistWrapper\\\\tapResultParticipants.csv\""
   ]
  },
  {
   "cell_type": "code",
   "execution_count": 3,
   "metadata": {},
   "outputs": [
    {
     "data": {
      "text/plain": [
       "11.800887139845853"
      ]
     },
     "execution_count": 3,
     "metadata": {},
     "output_type": "execute_result"
    }
   ],
   "source": [
    "def getStatisticsPhase3(results, players):\n",
    "    mvmTime = [] \n",
    "    gain = []\n",
    "    for p in players:\n",
    "        tmp = results[p]\n",
    "        time = 0\n",
    "        print(p, getGainPerPlayer(p, results))\n",
    "        gain.append(getGainPerPlayer(p, results))\n",
    "        for words in tmp:\n",
    "            time += float(words[10])\n",
    "        mvmTime.append(time/1000) # time in seconds\n",
    "    return (mvmTime, gain)\n",
    "\n",
    "# gain = (gainEffort + gainTH) / 2\n",
    "def getGainPerPlayer(p, results):\n",
    "    gain = [] \n",
    "    batchSize = 10\n",
    "    nrLessons = 2\n",
    "    playerResults = results[p]\n",
    "    \n",
    "    for l in range(nrLessons):\n",
    "        stupidTh = 0 \n",
    "        sumTh = 0\n",
    "        bodyParts =[ 0 for i in range(7)]\n",
    "        for res in playerResults: #results for a repetition  \n",
    "            if(l == int(res[1])):\n",
    "                for i in range (7):\n",
    "                    bodyParts[i] += 1 / float(res[21+i])\n",
    "                sumTh += float(res[13])\n",
    "                stupidTh += sumTh\n",
    "        \n",
    "        bodyParts = [ x / batchSize for x in bodyParts]\n",
    "        gainEffort = sum(bodyParts) / len(bodyParts)\n",
    "        gainTh = stupidTh / batchSize\n",
    "        gain.append((gainEffort + gainTh) / 2)\n",
    "    \n",
    "    return np.average(gain) \n",
    "        \n",
    "results = readFromFile(path, 0)\n",
    "getGainPerPlayer(14, results)"
   ]
  },
  {
   "cell_type": "code",
   "execution_count": 4,
   "metadata": {},
   "outputs": [
    {
     "name": "stdout",
     "output_type": "stream",
     "text": [
      "4 8.70639075096564\n",
      "9 9.829848363851488\n",
      "13 9.469337582651288\n",
      "16 8.544675731346432\n",
      "19 8.584012867203874\n",
      "24 11.973703161587729\n",
      "28 7.299285795469684\n",
      "31 8.758831472375315\n",
      "36 9.538478540745093\n",
      "39 12.17901839466335\n",
      "3 14.8568070032496\n",
      "8 11.956338312349619\n",
      "12 12.141329051375752\n",
      "15 11.137482480495187\n",
      "20 11.678814401559436\n",
      "23 15.882664586289026\n",
      "27 9.485146607467332\n",
      "32 13.4664644388528\n",
      "35 17.976802399078345\n",
      "40 15.790566769341654\n"
     ]
    }
   ],
   "source": [
    "mvmTimeBaseline, gainBaseline = getStatisticsPhase3(results, playersBaseline)\n",
    "mvmTimeOptimal, gainOptimal = getStatisticsPhase3(results, playersOptimal)"
   ]
  },
  {
   "cell_type": "code",
   "execution_count": 5,
   "metadata": {},
   "outputs": [
    {
     "data": {
      "image/png": "[encoded data removed]",
      "text/plain": [
       "<Figure size 432x288 with 1 Axes>"
      ]
     },
     "metadata": {
      "needs_background": "light"
     },
     "output_type": "display_data"
    }
   ],
   "source": [
    "plt.boxplot([mvmTimeBaseline, mvmTimeOptimal], labels= [\"Baseline\", \"Optimal\"])\n",
    "plt.title(\"Movement time\")\n",
    "plt.ylabel(\"Seconds\")\n",
    "plt.show()"
   ]
  },
  {
   "cell_type": "code",
   "execution_count": 6,
   "metadata": {},
   "outputs": [
    {
     "name": "stdout",
     "output_type": "stream",
     "text": [
      "[8.70639075096564, 9.829848363851488, 9.469337582651288, 8.544675731346432, 8.584012867203874, 11.973703161587729, 7.299285795469684, 8.758831472375315, 9.538478540745093, 12.17901839466335]\n",
      "[14.8568070032496, 11.956338312349619, 12.141329051375752, 11.137482480495187, 11.678814401559436, 15.882664586289026, 9.485146607467332, 13.4664644388528, 17.976802399078345, 15.790566769341654]\n"
     ]
    },
    {
     "data": {
      "image/png": "[encoded data removed]",
      "text/plain": [
       "<Figure size 432x288 with 1 Axes>"
      ]
     },
     "metadata": {
      "needs_background": "light"
     },
     "output_type": "display_data"
    }
   ],
   "source": [
    "plt.boxplot([gainBaseline, gainOptimal], labels= [\"Baseline\", \"Optimal\"])\n",
    "plt.title(\"Gain\")\n",
    "plt.ylabel(\"Gain\")\n",
    "plt.show\n",
    "print(gainBaseline)\n",
    "print(gainOptimal)"
   ]
  },
  {
   "cell_type": "code",
   "execution_count": null,
   "metadata": {},
   "outputs": [],
   "source": []
  }
 ],
 "metadata": {
  "kernelspec": {
   "display_name": "Python 3",
   "language": "python",
   "name": "python3"
  },
  "language_info": {
   "codemirror_mode": {
    "name": "ipython",
    "version": 3
   },
   "file_extension": ".py",
   "mimetype": "text/x-python",
   "name": "python",
   "nbconvert_exporter": "python",
   "pygments_lexer": "ipython3",
   "version": "3.6.5"
  }
 },
 "nbformat": 4,
 "nbformat_minor": 2
}
