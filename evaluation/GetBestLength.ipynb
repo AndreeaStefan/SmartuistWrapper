{
 "cells": [
  {
   "cell_type": "code",
   "execution_count": 11,
   "metadata": {},
   "outputs": [],
   "source": [
    "import numpy as np\n",
    "import matplotlib.pyplot as plt"
   ]
  },
  {
   "cell_type": "code",
   "execution_count": 6,
   "metadata": {},
   "outputs": [],
   "source": [
    "# constants \n",
    "path = \"E:\\\\Andreea\\\\Projects\\\\Git\\\\SmartsuitWrapper\\\\SmartuistWrapper\\\\tapResultParticipants.csv\"\n",
    "playerNr = 26\n",
    "\n",
    "idxLength = 28\n",
    "idxGain = 29"
   ]
  },
  {
   "cell_type": "code",
   "execution_count": 9,
   "metadata": {},
   "outputs": [],
   "source": [
    "def readFromFile(path):\n",
    "    results = [0] * 100\n",
    "    f = open(path, \"r\")\n",
    "    player = -1\n",
    "    for x in f:\n",
    "        line = x.split(',')\n",
    "        if len(line) == 31:\n",
    "            if int(line[0]) == player:\n",
    "                results[player].append(line)\n",
    "            else:\n",
    "                player = int(line[0])\n",
    "                results[player] = []\n",
    "                results[player].append(line)\n",
    "    f.close()\n",
    "    return results\n",
    "\n",
    "\n",
    "# a list with the results at idx for the given player    \n",
    "def getResultPerPlayer(p, results, idx, unique ):\n",
    "    tmp = results[p]\n",
    "    values = []\n",
    "    for words in tmp:\n",
    "        values.append(float(words[idx]))\n",
    "    if (unique == True):\n",
    "        values =  [x for i, x in enumerate(values) if i == values.index(x)]\n",
    "    return values\n",
    "\n",
    "# sort list1 - use the indexes of the sorted list1 to rearrage list2    \n",
    "def getCombinedPlot(list1, list2):\n",
    "    idx   = np.argsort(list1)\n",
    "    list1 = np.array(list1)[idx]\n",
    "    list2 = np.array(list2)[idx]\n",
    "    \n",
    "    plt.xticks(np.arange(min(list1), max(list1)+1, 1.0))\n",
    "    plt.plot(list1[1:], list2[1:], 'o-')\n",
    "    plt.show()\n",
    "        \n",
    "    return (list1, list2)"
   ]
  },
  {
   "cell_type": "code",
   "execution_count": 10,
   "metadata": {},
   "outputs": [
    {
     "data": {
      "image/png": "[encoded data removed]",
      "text/plain": [
       "<Figure size 432x288 with 1 Axes>"
      ]
     },
     "metadata": {
      "needs_background": "light"
     },
     "output_type": "display_data"
    },
    {
     "name": "stdout",
     "output_type": "stream",
     "text": [
      "[ 1.        2.880269  8.741206 10.24334   6.495286  7.028502  4.184795\n",
      "  4.406488  9.616346  2.880269  6.098196  7.893424  7.798363  9.20982\n",
      "  8.726917  5.265928  6.353817  8.030278  9.38333   6.137129  9.659632\n",
      "  9.822789  9.321329  5.463017  8.749969  8.68667   7.099563  7.765506\n",
      "  6.375232  7.418309]\n",
      "[-1.        5.536394  6.758366  7.126275  7.273974  7.951042  7.97104\n",
      "  8.169872  8.226345  8.259851  8.340491  8.388875  8.53422   8.610863\n",
      "  8.736044  8.808363  9.196017  9.277244  9.338404  9.445196  9.47244\n",
      "  9.797215  9.831389  9.900501  9.98497  10.22033  10.31318  10.81809\n",
      " 11.98063  12.0385  ]\n",
      "Optimal lenght:  7.186349\n"
     ]
    }
   ],
   "source": [
    "results = readFromFile(path)\n",
    "\n",
    "lengths = getResultPerPlayer(playerNr, results, idxLength, True)\n",
    "gain = getResultPerPlayer(playerNr, results, idxGain, True)\n",
    "\n",
    "for i in range(len(lengths)-1, 1, -1):   \n",
    "        lengths[i] = lengths[i-1]\n",
    "\n",
    "\n",
    "gain, lengths = getCombinedPlot(gain, lengths)\n",
    "\n",
    "# get avg length for the top 3 values of gain\n",
    "print(lengths)\n",
    "print(gain)\n",
    "avg = sum(lengths[-3:]) / 3\n",
    "print(\"Optimal lenght: \", avg)"
   ]
  },
  {
   "cell_type": "code",
   "execution_count": null,
   "metadata": {},
   "outputs": [],
   "source": []
  },
  {
   "cell_type": "code",
   "execution_count": null,
   "metadata": {},
   "outputs": [],
   "source": []
  }
 ],
 "metadata": {
  "kernelspec": {
   "display_name": "Python 3",
   "language": "python",
   "name": "python3"
  },
  "language_info": {
   "codemirror_mode": {
    "name": "ipython",
    "version": 3
   },
   "file_extension": ".py",
   "mimetype": "text/x-python",
   "name": "python",
   "nbconvert_exporter": "python",
   "pygments_lexer": "ipython3",
   "version": "3.6.8"
  }
 },
 "nbformat": 4,
 "nbformat_minor": 2
}
