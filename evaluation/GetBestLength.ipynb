{
 "cells": [
  {
   "cell_type": "code",
   "execution_count": 11,
   "metadata": {},
   "outputs": [],
   "source": [
    "import numpy as np\n",
    "import matplotlib.pyplot as plt"
   ]
  },
  {
   "cell_type": "code",
   "execution_count": 33,
   "metadata": {},
   "outputs": [],
   "source": [
    "# constants \n",
    "path = \"E:\\\\Andreea\\\\Projects\\\\Git\\\\SmartsuitWrapper\\\\SmartuistWrapper\\\\tapResultParticipants.csv\"\n",
    "playerNr = 46\n",
    "idxLength = 28\n",
    "idxGain = 29"
   ]
  },
  {
   "cell_type": "code",
   "execution_count": 34,
   "metadata": {},
   "outputs": [],
   "source": [
    "def readFromFile(path):\n",
    "    results = [0] * 100\n",
    "    f = open(path, \"r\")\n",
    "    player = -1\n",
    "    for x in f:\n",
    "        line = x.split(',')\n",
    "        if len(line) == 31:\n",
    "            if int(line[0]) == player:\n",
    "                results[player].append(line)\n",
    "            else:\n",
    "                player = int(line[0])\n",
    "                results[player] = []\n",
    "                results[player].append(line)\n",
    "    f.close()\n",
    "    return results\n",
    "\n",
    "\n",
    "# a list with the results at idx for the given player    \n",
    "def getResultPerPlayer(p, results, idx, unique ):\n",
    "    tmp = results[p]\n",
    "    values = []\n",
    "    for words in tmp:\n",
    "        values.append(float(words[idx]))\n",
    "    if (unique == True):\n",
    "        values =  [x for i, x in enumerate(values) if i == values.index(x)]\n",
    "    return values\n",
    "\n",
    "# sort list1 - use the indexes of the sorted list1 to rearrage list2    \n",
    "def getCombinedPlot(list1, list2):\n",
    "    idx   = np.argsort(list1)\n",
    "    list1 = np.array(list1)[idx]\n",
    "    list2 = np.array(list2)[idx]\n",
    "    \n",
    "    plt.xticks(np.arange(min(list1), max(list1)+1, 1.0))\n",
    "    plt.plot(list1[1:], list2[1:], 'o-')\n",
    "    plt.show()\n",
    "        \n",
    "    return (list1, list2)"
   ]
  },
  {
   "cell_type": "code",
   "execution_count": 35,
   "metadata": {},
   "outputs": [
    {
     "data": {
      "image/png": "[encoded data removed]",
      "text/plain": [
       "<Figure size 432x288 with 1 Axes>"
      ]
     },
     "metadata": {
      "needs_background": "light"
     },
     "output_type": "display_data"
    },
    {
     "name": "stdout",
     "output_type": "stream",
     "text": [
      "[1.       1.963221 1.963221 3.123572 4.911207 2.815018 3.6414   4.046815\n",
      " 4.748364 5.038985 4.00386  4.458663 3.692385 4.616998 3.55999  4.267475\n",
      " 5.013472 4.780747 4.887591 4.847821 5.099599 5.042947 4.598484 3.354443\n",
      " 4.479768 4.785932 4.968794 4.704183 5.087199 4.917212]\n",
      "[-1.      12.5906  13.44771 15.74576 15.86387 16.2278  16.2479  16.43274\n",
      " 16.52599 16.71523 16.78955 16.80207 16.88137 16.95447 17.22557 17.41458\n",
      " 17.43111 17.49076 17.61624 17.89058 17.96465 18.36546 18.45199 18.5626\n",
      " 18.68564 18.68737 18.68846 18.82675 19.54197 19.81148]\n",
      "Optimal lenght:  4.902864666666666\n"
     ]
    }
   ],
   "source": [
    "results = readFromFile(path)\n",
    "\n",
    "lengths = getResultPerPlayer(playerNr, results, idxLength, True)\n",
    "gain = getResultPerPlayer(playerNr, results, idxGain, True)\n",
    "\n",
    "for i in range(len(lengths)-1, 1, -1):   \n",
    "        lengths[i] = lengths[i-1]\n",
    "\n",
    "\n",
    "gain, lengths = getCombinedPlot(gain, lengths)\n",
    "\n",
    "# get avg length for the top 3 values of gain\n",
    "print(lengths)\n",
    "print(gain)\n",
    "avg = sum(lengths[-3:]) / 3\n",
    "print(\"Optimal lenght: \", avg)"
   ]
  },
  {
   "cell_type": "code",
   "execution_count": null,
   "metadata": {},
   "outputs": [],
   "source": []
  },
  {
   "cell_type": "code",
   "execution_count": null,
   "metadata": {},
   "outputs": [],
   "source": []
  }
 ],
 "metadata": {
  "kernelspec": {
   "display_name": "Python 3",
   "language": "python",
   "name": "python3"
  },
  "language_info": {
   "codemirror_mode": {
    "name": "ipython",
    "version": 3
   },
   "file_extension": ".py",
   "mimetype": "text/x-python",
   "name": "python",
   "nbconvert_exporter": "python",
   "pygments_lexer": "ipython3",
   "version": "3.6.8"
  }
 },
 "nbformat": 4,
 "nbformat_minor": 2
}
