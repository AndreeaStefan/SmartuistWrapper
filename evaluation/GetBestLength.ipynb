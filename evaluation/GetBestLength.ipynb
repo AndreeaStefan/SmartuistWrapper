{
 "cells": [
  {
   "cell_type": "code",
   "execution_count": 1,
   "metadata": {},
   "outputs": [],
   "source": [
    "import numpy as np\n",
    "import matplotlib.pyplot as plt"
   ]
  },
  {
   "cell_type": "code",
   "execution_count": 2,
   "metadata": {},
   "outputs": [],
   "source": [
    "# constants \n",
    "path = \"E:\\\\Andreea\\\\Projects\\\\Git\\\\SmartsuitWrapper\\\\SmartuistWrapper\\\\tapResultParticipants.csv\"\n",
    "pathH = \"C:\\\\Users\\\\huber\\\\OneDrive\\\\Dokumenty\\\\thesis-hubert\\\\unity\\\\SmartuistWrapper\\\\tapResultParticipants.csv\"\n",
    "playerNr = 62\n",
    "players = [2, 7, 11, 14, 18, 22, 26, 30, 34, 38, 42, 46, 50, 54, 58, 62]\n",
    "idxLength = 28\n",
    "idxGain = 29"
   ]
  },
  {
   "cell_type": "code",
   "execution_count": 8,
   "metadata": {},
   "outputs": [],
   "source": [
    "def readFromFile(path):\n",
    "    results = [0] * 100\n",
    "    f = open(pathH, \"r\")\n",
    "    player = -1\n",
    "    for x in f:\n",
    "        line = x.split(',')\n",
    "        if len(line) == 31:\n",
    "            if int(line[0]) == player:\n",
    "                results[player].append(line)\n",
    "            else:\n",
    "                player = int(line[0])\n",
    "                results[player] = []\n",
    "                results[player].append(line)\n",
    "    f.close()\n",
    "    return results\n",
    "\n",
    "\n",
    "# a list with the results at idx for the given player    \n",
    "def getResultPerPlayer(p, results, idx, unique ):\n",
    "    tmp = results[p]\n",
    "    values = []\n",
    "    for words in tmp:\n",
    "        values.append(float(words[idx]))\n",
    "    if (unique == True):\n",
    "        values =  [x for i, x in enumerate(values) if i == values.index(x)]\n",
    "    return values\n",
    "\n",
    "# sort list1 - use the indexes of the sorted list1 to rearrage list2    \n",
    "def getCombinedPlot(list1, list2):\n",
    "    idx   = np.argsort(list1)\n",
    "    list1 = np.array(list1)[idx]\n",
    "    list2 = np.array(list2)[idx]\n",
    "    \n",
    "#     plt.xticks(np.arange(min(list1), max(list1)+1, 1.0))\n",
    "#     plt.plot(list1[1:], list2[1:], 'o-')\n",
    "#     plt.show()\n",
    "        \n",
    "    return (list1, list2)"
   ]
  },
  {
   "cell_type": "code",
   "execution_count": 11,
   "metadata": {},
   "outputs": [
    {
     "name": "stdout",
     "output_type": "stream",
     "text": [
      "7.186349\n"
     ]
    }
   ],
   "source": [
    "results = readFromFile(path)\n",
    "p = 26\n",
    "\n",
    "lengths = getResultPerPlayer(p, results, idxLength, True)\n",
    "gain = getResultPerPlayer(p, results, idxGain, True)\n",
    "\n",
    "for i in range(len(lengths)-1, 1, -1):   \n",
    "    lengths[i] = lengths[i-1]\n",
    "gain, lengths = getCombinedPlot(gain, lengths)\n",
    " # get avg length for the top 3 values of gain\n",
    "avg = sum(lengths[-3:]) / 3\n",
    "print(avg)"
   ]
  },
  {
   "cell_type": "code",
   "execution_count": 12,
   "metadata": {},
   "outputs": [
    {
     "name": "stdout",
     "output_type": "stream",
     "text": [
      "8.97607313793\n",
      "[  5.536394   6.758366   7.126275   7.273974   7.951042   7.97104\n",
      "   8.169872   8.226345   8.259851   8.340491   8.388875   8.53422\n",
      "   8.610863   8.736044   8.808363   9.196017   9.277244   9.338404\n",
      "   9.445196   9.47244    9.797215   9.831389   9.900501   9.98497   10.22033\n",
      "  10.31318   10.81809   11.98063   12.0385  ]\n"
     ]
    }
   ],
   "source": [
    "gain = gain[1:]\n",
    "print(np.average(gain))\n",
    "print(gain)"
   ]
  },
  {
   "cell_type": "code",
   "execution_count": 13,
   "metadata": {},
   "outputs": [
    {
     "name": "stdout",
     "output_type": "stream",
     "text": [
      "[4.938574, 3.899167666666667, 2.4882649999999997, 3.390385666666667, 5.271202333333334, 5.0918746666666665, 7.1863489999999999, 4.1369103333333337, 6.2046833333333344, 3.0021586666666664, 4.2141090000000005, 4.902864666666666, 5.4459056666666674, 2.8668219999999995, 6.9536310000000006, 2.698612666666667]\n"
     ]
    }
   ],
   "source": [
    "results = readFromFile(path)\n",
    "l = []\n",
    "\n",
    "for p in range(len(players)):\n",
    "    lengths = getResultPerPlayer(players[p], results, idxLength, True)\n",
    "    gain = getResultPerPlayer(players[p], results, idxGain, True)\n",
    "\n",
    "    for i in range(len(lengths)-1, 1, -1):   \n",
    "            lengths[i] = lengths[i-1]\n",
    "    gain, lengths = getCombinedPlot(gain, lengths)\n",
    "    # get avg length for the top 3 values of gain\n",
    "    avg = sum(lengths[-3:]) / 3\n",
    "    l.append(avg)\n",
    "print(l)"
   ]
  },
  {
   "cell_type": "code",
   "execution_count": 14,
   "metadata": {
    "scrolled": false
   },
   "outputs": [
    {
     "name": "stdout",
     "output_type": "stream",
     "text": [
      "9.42898317241\n",
      "[  6.434475   6.595367   7.009946   7.047657   8.130291   8.153961\n",
      "   8.357437   8.500237   8.52117    8.856153   8.912694   9.040827\n",
      "   9.068571   9.25442    9.34774    9.400775   9.478844   9.662623\n",
      "   9.730352   9.931862  10.04732   10.05963   10.39045   10.75173   11.12526\n",
      "  11.41388   11.50161   12.23621   14.47902 ]\n"
     ]
    }
   ],
   "source": [
    "gain = gain[1:]\n",
    "print(np.average(gain))\n",
    "print(gain)"
   ]
  },
  {
   "cell_type": "code",
   "execution_count": null,
   "metadata": {},
   "outputs": [],
   "source": []
  },
  {
   "cell_type": "code",
   "execution_count": null,
   "metadata": {},
   "outputs": [],
   "source": []
  }
 ],
 "metadata": {
  "kernelspec": {
   "display_name": "Python 3",
   "language": "python",
   "name": "python3"
  },
  "language_info": {
   "codemirror_mode": {
    "name": "ipython",
    "version": 3
   },
   "file_extension": ".py",
   "mimetype": "text/x-python",
   "name": "python",
   "nbconvert_exporter": "python",
   "pygments_lexer": "ipython3",
   "version": "3.6.3"
  }
 },
 "nbformat": 4,
 "nbformat_minor": 2
}
