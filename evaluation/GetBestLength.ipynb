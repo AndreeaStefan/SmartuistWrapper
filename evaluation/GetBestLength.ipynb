{
 "cells": [
  {
   "cell_type": "code",
   "execution_count": 1,
   "metadata": {},
   "outputs": [],
   "source": [
    "import numpy as np\n",
    "import matplotlib.pyplot as plt"
   ]
  },
  {
   "cell_type": "code",
   "execution_count": 5,
   "metadata": {},
   "outputs": [],
   "source": [
    "# constants \n",
    "path = \"E:\\\\Andreea\\\\Projects\\\\Git\\\\SmartsuitWrapper\\\\SmartuistWrapper\\\\tapResultParticipants.csv\"\n",
    "playerNr = 62\n",
    "idxLength = 28\n",
    "idxGain = 29"
   ]
  },
  {
   "cell_type": "code",
   "execution_count": 6,
   "metadata": {},
   "outputs": [],
   "source": [
    "def readFromFile(path):\n",
    "    results = [0] * 100\n",
    "    f = open(path, \"r\")\n",
    "    player = -1\n",
    "    for x in f:\n",
    "        line = x.split(',')\n",
    "        if len(line) == 31:\n",
    "            if int(line[0]) == player:\n",
    "                results[player].append(line)\n",
    "            else:\n",
    "                player = int(line[0])\n",
    "                results[player] = []\n",
    "                results[player].append(line)\n",
    "    f.close()\n",
    "    return results\n",
    "\n",
    "\n",
    "# a list with the results at idx for the given player    \n",
    "def getResultPerPlayer(p, results, idx, unique ):\n",
    "    tmp = results[p]\n",
    "    values = []\n",
    "    for words in tmp:\n",
    "        values.append(float(words[idx]))\n",
    "    if (unique == True):\n",
    "        values =  [x for i, x in enumerate(values) if i == values.index(x)]\n",
    "    return values\n",
    "\n",
    "# sort list1 - use the indexes of the sorted list1 to rearrage list2    \n",
    "def getCombinedPlot(list1, list2):\n",
    "    idx   = np.argsort(list1)\n",
    "    list1 = np.array(list1)[idx]\n",
    "    list2 = np.array(list2)[idx]\n",
    "    \n",
    "    plt.xticks(np.arange(min(list1), max(list1)+1, 1.0))\n",
    "    plt.plot(list1[1:], list2[1:], 'o-')\n",
    "    plt.show()\n",
    "        \n",
    "    return (list1, list2)"
   ]
  },
  {
   "cell_type": "code",
   "execution_count": 7,
   "metadata": {},
   "outputs": [
    {
     "data": {
      "image/png": "[encoded data removed]",
      "text/plain": [
       "<Figure size 432x288 with 1 Axes>"
      ]
     },
     "metadata": {
      "needs_background": "light"
     },
     "output_type": "display_data"
    },
    {
     "name": "stdout",
     "output_type": "stream",
     "text": [
      "Optimal lenght:  2.698612666666667\n"
     ]
    }
   ],
   "source": [
    "results = readFromFile(path)\n",
    "\n",
    "lengths = getResultPerPlayer(playerNr, results, idxLength, True)\n",
    "gain = getResultPerPlayer(playerNr, results, idxGain, True)\n",
    "\n",
    "for i in range(len(lengths)-1, 1, -1):   \n",
    "        lengths[i] = lengths[i-1]\n",
    "\n",
    "\n",
    "gain, lengths = getCombinedPlot(gain, lengths)\n",
    "\n",
    "# get avg length for the top 3 values of gain\n",
    "avg = sum(lengths[-3:]) / 3\n",
    "print(\"Optimal lenght: \", avg)"
   ]
  },
  {
   "cell_type": "code",
   "execution_count": 11,
   "metadata": {},
   "outputs": [
    {
     "name": "stdout",
     "output_type": "stream",
     "text": [
      "9.968929310344828\n",
      "[ 7.60681   8.396915  8.605145  8.71898   8.850466  9.193934  9.211818\n",
      "  9.214128  9.308934  9.351405  9.437198  9.717499  9.742959  9.866893\n",
      "  9.93671   9.990246 10.23705  10.23994  10.40229  10.42038  10.52346\n",
      " 10.6031   10.78073  10.82421  11.06804  11.19816  11.3444   12.11882\n",
      " 12.18833 ]\n"
     ]
    }
   ],
   "source": [
    "gain = gain[1:]\n",
    "print(np.average(gain))\n",
    "print(gain)"
   ]
  },
  {
   "cell_type": "code",
   "execution_count": null,
   "metadata": {},
   "outputs": [],
   "source": []
  }
 ],
 "metadata": {
  "kernelspec": {
   "display_name": "Python 3",
   "language": "python",
   "name": "python3"
  },
  "language_info": {
   "codemirror_mode": {
    "name": "ipython",
    "version": 3
   },
   "file_extension": ".py",
   "mimetype": "text/x-python",
   "name": "python",
   "nbconvert_exporter": "python",
   "pygments_lexer": "ipython3",
   "version": "3.6.8"
  }
 },
 "nbformat": 4,
 "nbformat_minor": 2
}
