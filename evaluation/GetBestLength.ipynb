{
 "cells": [
  {
   "cell_type": "code",
   "execution_count": 11,
   "metadata": {},
   "outputs": [],
   "source": [
    "import numpy as np\n",
    "import matplotlib.pyplot as plt"
   ]
  },
  {
   "cell_type": "code",
   "execution_count": 28,
   "metadata": {},
   "outputs": [],
   "source": [
    "# constants \n",
    "path = \"E:\\\\Andreea\\\\Projects\\\\Git\\\\SmartsuitWrapper\\\\SmartuistWrapper\\\\tapResultParticipants.csv\"\n",
    "playerNr = 42\n",
    "idxLength = 28\n",
    "idxGain = 29"
   ]
  },
  {
   "cell_type": "code",
   "execution_count": 29,
   "metadata": {},
   "outputs": [],
   "source": [
    "def readFromFile(path):\n",
    "    results = [0] * 100\n",
    "    f = open(path, \"r\")\n",
    "    player = -1\n",
    "    for x in f:\n",
    "        line = x.split(',')\n",
    "        if len(line) == 31:\n",
    "            if int(line[0]) == player:\n",
    "                results[player].append(line)\n",
    "            else:\n",
    "                player = int(line[0])\n",
    "                results[player] = []\n",
    "                results[player].append(line)\n",
    "    f.close()\n",
    "    return results\n",
    "\n",
    "\n",
    "# a list with the results at idx for the given player    \n",
    "def getResultPerPlayer(p, results, idx, unique ):\n",
    "    tmp = results[p]\n",
    "    values = []\n",
    "    for words in tmp:\n",
    "        values.append(float(words[idx]))\n",
    "    if (unique == True):\n",
    "        values =  [x for i, x in enumerate(values) if i == values.index(x)]\n",
    "    return values\n",
    "\n",
    "# sort list1 - use the indexes of the sorted list1 to rearrage list2    \n",
    "def getCombinedPlot(list1, list2):\n",
    "    idx   = np.argsort(list1)\n",
    "    list1 = np.array(list1)[idx]\n",
    "    list2 = np.array(list2)[idx]\n",
    "    \n",
    "    plt.xticks(np.arange(min(list1), max(list1)+1, 1.0))\n",
    "    plt.plot(list1[1:], list2[1:], 'o-')\n",
    "    plt.show()\n",
    "        \n",
    "    return (list1, list2)"
   ]
  },
  {
   "cell_type": "code",
   "execution_count": 30,
   "metadata": {},
   "outputs": [
    {
     "data": {
      "image/png": "[encoded data removed]",
      "text/plain": [
       "<Figure size 432x288 with 1 Axes>"
      ]
     },
     "metadata": {
      "needs_background": "light"
     },
     "output_type": "display_data"
    },
    {
     "name": "stdout",
     "output_type": "stream",
     "text": [
      "[1.       3.745022 3.980648 5.325381 1.896784 1.896784 2.796377 2.972801\n",
      " 3.266002 3.514884 3.826685 3.53531  3.562553 3.756238 4.385892 3.964779\n",
      " 4.89598  4.322258 4.67754  4.921801 3.566763 3.480027 3.21262  3.447916\n",
      " 4.113308 3.415734 3.629692 4.255866 4.614718 3.771743]\n",
      "[-1.      12.42537 12.57869 12.82749 13.08006 13.10166 13.17925 13.40069\n",
      " 14.36166 14.45809 14.47604 14.55854 15.04931 15.12739 15.19972 15.23721\n",
      " 15.24593 15.34377 15.3724  15.71322 15.82109 15.9877  16.0696  16.14372\n",
      " 16.19565 16.24966 16.54704 16.84246 17.29799 17.61143]\n",
      "Optimal lenght:  4.2141090000000005\n"
     ]
    }
   ],
   "source": [
    "results = readFromFile(path)\n",
    "\n",
    "lengths = getResultPerPlayer(playerNr, results, idxLength, True)\n",
    "gain = getResultPerPlayer(playerNr, results, idxGain, True)\n",
    "\n",
    "for i in range(len(lengths)-1, 1, -1):   \n",
    "        lengths[i] = lengths[i-1]\n",
    "\n",
    "\n",
    "gain, lengths = getCombinedPlot(gain, lengths)\n",
    "\n",
    "# get avg length for the top 3 values of gain\n",
    "print(lengths)\n",
    "print(gain)\n",
    "avg = sum(lengths[-3:]) / 3\n",
    "print(\"Optimal lenght: \", avg)"
   ]
  },
  {
   "cell_type": "code",
   "execution_count": null,
   "metadata": {},
   "outputs": [],
   "source": []
  },
  {
   "cell_type": "code",
   "execution_count": null,
   "metadata": {},
   "outputs": [],
   "source": []
  }
 ],
 "metadata": {
  "kernelspec": {
   "display_name": "Python 3",
   "language": "python",
   "name": "python3"
  },
  "language_info": {
   "codemirror_mode": {
    "name": "ipython",
    "version": 3
   },
   "file_extension": ".py",
   "mimetype": "text/x-python",
   "name": "python",
   "nbconvert_exporter": "python",
   "pygments_lexer": "ipython3",
   "version": "3.6.8"
  }
 },
 "nbformat": 4,
 "nbformat_minor": 2
}
