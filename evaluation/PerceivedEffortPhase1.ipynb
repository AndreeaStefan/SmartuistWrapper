{
 "cells": [
  {
   "cell_type": "code",
   "execution_count": 1,
   "metadata": {},
   "outputs": [],
   "source": [
    "import numpy as np\n",
    "import matplotlib.pyplot as plt\n",
    "from Helper import *"
   ]
  },
  {
   "cell_type": "code",
   "execution_count": 2,
   "metadata": {},
   "outputs": [],
   "source": [
    "#GRAPHS#\n",
    "SMALL_SIZE = 20\n",
    "MEDIUM_SIZE = 20\n",
    "BIGGER_SIZE = 24\n",
    "\n",
    "plt.rc('font', size=SMALL_SIZE)          # controls default text sizes\n",
    "plt.rc('axes', titlesize=SMALL_SIZE)     # fontsize of the axes title\n",
    "plt.rc('axes', labelsize=MEDIUM_SIZE)    # fontsize of the x and y labels\n",
    "plt.rc('xtick', labelsize=SMALL_SIZE)    # fontsize of the tick labels\n",
    "plt.rc('ytick', labelsize=SMALL_SIZE)    # fontsize of the tick labels\n",
    "plt.rc('legend', fontsize=SMALL_SIZE)    # legend fontsize\n",
    "plt.rc('figure', titlesize=BIGGER_SIZE)  # fontsize of the figure title"
   ]
  },
  {
   "cell_type": "code",
   "execution_count": 8,
   "metadata": {},
   "outputs": [],
   "source": [
    "# constants\n",
    "\n",
    "# 0 - male, 1 - female \n",
    "gender = [1, 0, 0, 0, 0, 1, 1, 1, 1, 1, 1, 1, 1, 1, 1, 1, 1, # player 0 - 16\n",
    "         0, 0, 0, 0, 0, 0, 0, 0, 0, 0, 0, 0, 0, 0, 0, 0, # 17 - 32\n",
    "         1, 1, 1, 1, 1, 1, 1, 1, 1, 1, 1, 1, 1, 1, 1, 1, # 33 - 48\n",
    "         0, 0, 0, 0, 1, 1, 1, 1, 0, 0 ,0 ,0, 0, 0, 0, 0 ] # 49 - 64 \n",
    "\n",
    "armLength = [28, 23.5, 27, 27, 28, 27, 28, 26, 23, 26, 24, 26, 27, 24, 0, 29]\n",
    "\n",
    "weightPercentageMale = [0.551, 0.0325, 0.0325, 0.1668, 0.1668, 0.0252, 0.0252]\n",
    "weightPercentageFemale = [0.532, 0.029, 0.029, 0.1843, 0.1843, 0.0207, 0.0207]\n",
    "\n",
    "playersTraining = [2, 7, 11, 14, 18, 22, 26, 30, 34, 38, 42, 46, 50, 54, 58, 62]\n",
    "pathPhase1 = \"E:\\\\Andreea\\\\Master\\\\Thesis\\\\Git\\\\TheOne\\\\SmartuistWrapper\\\\perceivedEffortParticipants.csv\"\n",
    "\n",
    "idxLength = 28\n",
    "idxGain = 29"
   ]
  },
  {
   "cell_type": "code",
   "execution_count": 4,
   "metadata": {},
   "outputs": [],
   "source": [
    "def readPerceivedEffortPhase1(path, players):\n",
    "    results = [0] * 100\n",
    "    f = open(path, \"r\")\n",
    "    player = -1\n",
    "    count = 0\n",
    "    for x in f:\n",
    "        line = x.split(',')\n",
    "        if(int(line[0]) in players):\n",
    "            if int(line[0]) != player:\n",
    "                player = int(line[0])\n",
    "                results[player] = []\n",
    "            tmp = []\n",
    "            for i in range(2, 5):\n",
    "                tmp.append(int(line[i]))\n",
    "            results[player].append(tmp)\n",
    "            \n",
    "        count += 1\n",
    "    f.close()\n",
    "    return results\n",
    "\n",
    "def getResultsForPlayers(results, players):\n",
    "    resultsPlayers = []\n",
    "    for p in players: \n",
    "        resultsPlayers.append(results[p])\n",
    "    return np.array(resultsPlayers)  \n",
    "\n",
    "# a list with the results at idx for the given player    \n",
    "def getResultPerPlayer(p, results, idx, unique ):\n",
    "    tmp = results[p]\n",
    "    values = []\n",
    "    for words in tmp:\n",
    "        values.append(float(words[idx]))\n",
    "    if (unique == True):\n",
    "        values =  [x for i, x in enumerate(values) if i == values.index(x)]\n",
    "    return values\n",
    "\n",
    "def findCorelation(data1, data2, label=\"\"):\n",
    "    print(label)\n",
    "    # calculate spearman's correlation\n",
    "    coef, p = spearmanr(data1, data2) \n",
    "    print('Spearmans correlation p-value: %.7f' % p)\n",
    "    \n",
    "    # calculate kendall's correlation\n",
    "    coef, p = kendalltau(data1, data2)\n",
    "    print('Kendall correlation p-value: %.7f' % p)\n",
    "    print(\" \")"
   ]
  },
  {
   "cell_type": "code",
   "execution_count": 7,
   "metadata": {},
   "outputs": [
    {
     "name": "stdout",
     "output_type": "stream",
     "text": [
      "[[3, 3, 2], [1, 2, 3], [4, 4, 5], [4, 4, 6], [4, 4, 4], [4, 3, 4], [5, 4, 5], [5, 4, 5], [4, 4, 3], [5, 4, 5], [6, 5, 6], [5, 5, 5], [5, 4, 4], [5, 5, 5], [5, 5, 5], [5, 4, 4], [4, 5, 5], [4, 4, 4], [4, 5, 4], [4, 4, 3], [4, 3, 4], [4, 3, 4], [5, 4, 5], [5, 4, 4], [5, 5, 3], [5, 4, 4], [4, 4, 4], [5, 4, 5], [4, 4, 3], [4, 5, 4], [4, 4, 4]]\n"
     ]
    }
   ],
   "source": [
    "# perceived effort in phase1\n",
    "\n",
    "resultsPhase1  = readPerceivedEffortPhase1(pathPhase1, playersTraining)\n",
    "resultsPlayers = getResultsForPlayers(resultsPhase1, playersTraining)\n",
    "\n",
    "for p in range(len(playersTraining)):\n",
    "        lengths = getResultPerPlayer(players[p], results, idxLength, True)"
   ]
  },
  {
   "cell_type": "code",
   "execution_count": null,
   "metadata": {},
   "outputs": [],
   "source": []
  }
 ],
 "metadata": {
  "kernelspec": {
   "display_name": "Python 3",
   "language": "python",
   "name": "python3"
  },
  "language_info": {
   "codemirror_mode": {
    "name": "ipython",
    "version": 3
   },
   "file_extension": ".py",
   "mimetype": "text/x-python",
   "name": "python",
   "nbconvert_exporter": "python",
   "pygments_lexer": "ipython3",
   "version": "3.6.5"
  }
 },
 "nbformat": 4,
 "nbformat_minor": 2
}
